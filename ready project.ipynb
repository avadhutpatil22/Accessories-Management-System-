{
  "nbformat": 4,
  "nbformat_minor": 0,
  "metadata": {
    "colab": {
      "name": "DataScience _project_sol .ipynb",
      "provenance": [],
      "collapsed_sections": []
    },
    "kernelspec": {
      "name": "python3",
      "display_name": "Python 3"
    },
    "language_info": {
      "name": "python"
    }
  },
  "cells": [
    {
      "cell_type": "code",
      "metadata": {
        "colab": {
          "resources": {
            "http://localhost:8080/nbextensions/google.colab/files.js": {
              "data": "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",
              "ok": true,
              "headers": [
                [
                  "content-type",
                  "application/javascript"
                ]
              ],
              "status": 200,
              "status_text": ""
            }
          },
          "base_uri": "https://localhost:8080/",
          "height": 72
        },
        "id": "68K8jxmDWq4O",
        "outputId": "f5dd320a-0f93-443a-8e29-079eae9acb9d"
      },
      "source": [
        "import numpy as np \n",
        "import pandas as pd\n",
        "import matplotlib.pyplot as plt\n",
        "import seaborn as sns \n",
        "\n",
        "from google.colab import files\n",
        "Data_files = files.upload()"
      ],
      "execution_count": 1,
      "outputs": [
        {
          "output_type": "display_data",
          "data": {
            "text/html": [
              "\n",
              "     <input type=\"file\" id=\"files-5bc73d5f-eba9-4387-87ce-6aaaa4bdee60\" name=\"files[]\" multiple disabled\n",
              "        style=\"border:none\" />\n",
              "     <output id=\"result-5bc73d5f-eba9-4387-87ce-6aaaa4bdee60\">\n",
              "      Upload widget is only available when the cell has been executed in the\n",
              "      current browser session. Please rerun this cell to enable.\n",
              "      </output>\n",
              "      <script src=\"/nbextensions/google.colab/files.js\"></script> "
            ],
            "text/plain": [
              "<IPython.core.display.HTML object>"
            ]
          },
          "metadata": {
            "tags": []
          }
        },
        {
          "output_type": "stream",
          "text": [
            "Saving Dataset.xlsx to Dataset.xlsx\n"
          ],
          "name": "stdout"
        }
      ]
    },
    {
      "cell_type": "code",
      "metadata": {
        "id": "Cty8Y6ieXLKt"
      },
      "source": [
        "dealer_df = pd.read_excel(\"Dataset.xlsx\", sheet_name = \"Dealers\")\n",
        "Customers_df = pd.read_excel(\"Dataset.xlsx\", sheet_name = \"Customers\")\n",
        "Claims_df = pd.read_excel(\"Dataset.xlsx\", sheet_name = \"Claims\")\n",
        "Parts_df = pd.read_excel(\"Dataset.xlsx\", sheet_name = \"Parts\")\n",
        "Transactions_df = pd.read_excel(\"Dataset.xlsx\", sheet_name = \"Transactions\")\n",
        "Vendor_df = pd.read_excel(\"Dataset.xlsx\", sheet_name = \"Vendors\")"
      ],
      "execution_count": 2,
      "outputs": []
    },
    {
      "cell_type": "code",
      "metadata": {
        "colab": {
          "base_uri": "https://localhost:8080/",
          "height": 204
        },
        "id": "v9ohQY3A3W5c",
        "outputId": "3ad965c6-314f-4adc-913c-60a6ba7a9d1a"
      },
      "source": [
        "Parts_df.head()"
      ],
      "execution_count": 3,
      "outputs": [
        {
          "output_type": "execute_result",
          "data": {
            "text/html": [
              "<div>\n",
              "<style scoped>\n",
              "    .dataframe tbody tr th:only-of-type {\n",
              "        vertical-align: middle;\n",
              "    }\n",
              "\n",
              "    .dataframe tbody tr th {\n",
              "        vertical-align: top;\n",
              "    }\n",
              "\n",
              "    .dataframe thead th {\n",
              "        text-align: right;\n",
              "    }\n",
              "</style>\n",
              "<table border=\"1\" class=\"dataframe\">\n",
              "  <thead>\n",
              "    <tr style=\"text-align: right;\">\n",
              "      <th></th>\n",
              "      <th>Part_ID</th>\n",
              "      <th>Part_Name</th>\n",
              "      <th>Manufacturer_ID</th>\n",
              "      <th>Manf_Date</th>\n",
              "    </tr>\n",
              "  </thead>\n",
              "  <tbody>\n",
              "    <tr>\n",
              "      <th>0</th>\n",
              "      <td>901</td>\n",
              "      <td>brake pad</td>\n",
              "      <td>501</td>\n",
              "      <td>1996-08-12</td>\n",
              "    </tr>\n",
              "    <tr>\n",
              "      <th>1</th>\n",
              "      <td>902</td>\n",
              "      <td>axle</td>\n",
              "      <td>502</td>\n",
              "      <td>1997-03-03</td>\n",
              "    </tr>\n",
              "    <tr>\n",
              "      <th>2</th>\n",
              "      <td>903</td>\n",
              "      <td>tie rod</td>\n",
              "      <td>503</td>\n",
              "      <td>1997-06-13</td>\n",
              "    </tr>\n",
              "    <tr>\n",
              "      <th>3</th>\n",
              "      <td>904</td>\n",
              "      <td>differential</td>\n",
              "      <td>504</td>\n",
              "      <td>1997-01-14</td>\n",
              "    </tr>\n",
              "    <tr>\n",
              "      <th>4</th>\n",
              "      <td>905</td>\n",
              "      <td>rear suspension</td>\n",
              "      <td>505</td>\n",
              "      <td>1996-08-19</td>\n",
              "    </tr>\n",
              "  </tbody>\n",
              "</table>\n",
              "</div>"
            ],
            "text/plain": [
              "   Part_ID        Part_Name  Manufacturer_ID  Manf_Date\n",
              "0      901        brake pad              501 1996-08-12\n",
              "1      902            axle               502 1997-03-03\n",
              "2      903          tie rod              503 1997-06-13\n",
              "3      904     differential              504 1997-01-14\n",
              "4      905  rear suspension              505 1996-08-19"
            ]
          },
          "metadata": {
            "tags": []
          },
          "execution_count": 3
        }
      ]
    },
    {
      "cell_type": "code",
      "metadata": {
        "colab": {
          "base_uri": "https://localhost:8080/",
          "height": 204
        },
        "id": "AA8eVDF_ahHt",
        "outputId": "5e0a9063-18ce-4a5f-8b18-a15afb5789d0"
      },
      "source": [
        "Claims_df.head()"
      ],
      "execution_count": 4,
      "outputs": [
        {
          "output_type": "execute_result",
          "data": {
            "text/html": [
              "<div>\n",
              "<style scoped>\n",
              "    .dataframe tbody tr th:only-of-type {\n",
              "        vertical-align: middle;\n",
              "    }\n",
              "\n",
              "    .dataframe tbody tr th {\n",
              "        vertical-align: top;\n",
              "    }\n",
              "\n",
              "    .dataframe thead th {\n",
              "        text-align: right;\n",
              "    }\n",
              "</style>\n",
              "<table border=\"1\" class=\"dataframe\">\n",
              "  <thead>\n",
              "    <tr style=\"text-align: right;\">\n",
              "      <th></th>\n",
              "      <th>claim_id</th>\n",
              "      <th>claim_date</th>\n",
              "      <th>claim_amount</th>\n",
              "      <th>Dealer_ID</th>\n",
              "      <th>Cust_ID</th>\n",
              "      <th>Part_ID</th>\n",
              "      <th>Repair_or_Replace</th>\n",
              "    </tr>\n",
              "  </thead>\n",
              "  <tbody>\n",
              "    <tr>\n",
              "      <th>0</th>\n",
              "      <td>1</td>\n",
              "      <td>2020-04-01</td>\n",
              "      <td>36000</td>\n",
              "      <td>5</td>\n",
              "      <td>104</td>\n",
              "      <td>901</td>\n",
              "      <td>rpr</td>\n",
              "    </tr>\n",
              "    <tr>\n",
              "      <th>1</th>\n",
              "      <td>2</td>\n",
              "      <td>2020-04-01</td>\n",
              "      <td>42000</td>\n",
              "      <td>6</td>\n",
              "      <td>106</td>\n",
              "      <td>902</td>\n",
              "      <td>rplc</td>\n",
              "    </tr>\n",
              "    <tr>\n",
              "      <th>2</th>\n",
              "      <td>3</td>\n",
              "      <td>2020-04-01</td>\n",
              "      <td>45000</td>\n",
              "      <td>4</td>\n",
              "      <td>103</td>\n",
              "      <td>903</td>\n",
              "      <td>rpr</td>\n",
              "    </tr>\n",
              "    <tr>\n",
              "      <th>3</th>\n",
              "      <td>4</td>\n",
              "      <td>2020-04-01</td>\n",
              "      <td>56000</td>\n",
              "      <td>3</td>\n",
              "      <td>102</td>\n",
              "      <td>904</td>\n",
              "      <td>rplc</td>\n",
              "    </tr>\n",
              "    <tr>\n",
              "      <th>4</th>\n",
              "      <td>5</td>\n",
              "      <td>2020-04-01</td>\n",
              "      <td>39000</td>\n",
              "      <td>2</td>\n",
              "      <td>105</td>\n",
              "      <td>905</td>\n",
              "      <td>rpr</td>\n",
              "    </tr>\n",
              "  </tbody>\n",
              "</table>\n",
              "</div>"
            ],
            "text/plain": [
              "   claim_id claim_date  claim_amount  ...  Cust_ID  Part_ID  Repair_or_Replace\n",
              "0         1 2020-04-01         36000  ...      104      901                rpr\n",
              "1         2 2020-04-01         42000  ...      106      902               rplc\n",
              "2         3 2020-04-01         45000  ...      103      903                rpr\n",
              "3         4 2020-04-01         56000  ...      102      904               rplc\n",
              "4         5 2020-04-01         39000  ...      105      905                rpr\n",
              "\n",
              "[5 rows x 7 columns]"
            ]
          },
          "metadata": {
            "tags": []
          },
          "execution_count": 4
        }
      ]
    },
    {
      "cell_type": "code",
      "metadata": {
        "colab": {
          "base_uri": "https://localhost:8080/",
          "height": 204
        },
        "id": "p79Aafebc8k5",
        "outputId": "71fec340-879a-4a60-efea-2b18d9e8b481"
      },
      "source": [
        "Customers_df.head()"
      ],
      "execution_count": 8,
      "outputs": [
        {
          "output_type": "execute_result",
          "data": {
            "text/html": [
              "<div>\n",
              "<style scoped>\n",
              "    .dataframe tbody tr th:only-of-type {\n",
              "        vertical-align: middle;\n",
              "    }\n",
              "\n",
              "    .dataframe tbody tr th {\n",
              "        vertical-align: top;\n",
              "    }\n",
              "\n",
              "    .dataframe thead th {\n",
              "        text-align: right;\n",
              "    }\n",
              "</style>\n",
              "<table border=\"1\" class=\"dataframe\">\n",
              "  <thead>\n",
              "    <tr style=\"text-align: right;\">\n",
              "      <th></th>\n",
              "      <th>Cust_ID</th>\n",
              "      <th>Cust_Name</th>\n",
              "      <th>Dealer_ID</th>\n",
              "      <th>Country</th>\n",
              "      <th>State</th>\n",
              "      <th>City</th>\n",
              "      <th>ZipCode</th>\n",
              "    </tr>\n",
              "  </thead>\n",
              "  <tbody>\n",
              "    <tr>\n",
              "      <th>0</th>\n",
              "      <td>101</td>\n",
              "      <td>pushpak</td>\n",
              "      <td>1</td>\n",
              "      <td>ind</td>\n",
              "      <td>goa</td>\n",
              "      <td>panaji</td>\n",
              "      <td>402201</td>\n",
              "    </tr>\n",
              "    <tr>\n",
              "      <th>1</th>\n",
              "      <td>102</td>\n",
              "      <td>raj</td>\n",
              "      <td>3</td>\n",
              "      <td>ind</td>\n",
              "      <td>karnataka</td>\n",
              "      <td>banglore</td>\n",
              "      <td>403315</td>\n",
              "    </tr>\n",
              "    <tr>\n",
              "      <th>2</th>\n",
              "      <td>103</td>\n",
              "      <td>ranbir</td>\n",
              "      <td>4</td>\n",
              "      <td>ind</td>\n",
              "      <td>gujrat</td>\n",
              "      <td>ahemadabad</td>\n",
              "      <td>326665</td>\n",
              "    </tr>\n",
              "    <tr>\n",
              "      <th>3</th>\n",
              "      <td>104</td>\n",
              "      <td>reyansh</td>\n",
              "      <td>5</td>\n",
              "      <td>ind</td>\n",
              "      <td>orrisa</td>\n",
              "      <td>cuttack</td>\n",
              "      <td>543211</td>\n",
              "    </tr>\n",
              "    <tr>\n",
              "      <th>4</th>\n",
              "      <td>105</td>\n",
              "      <td>raunak</td>\n",
              "      <td>2</td>\n",
              "      <td>ind</td>\n",
              "      <td>delhi</td>\n",
              "      <td>noida</td>\n",
              "      <td>426232</td>\n",
              "    </tr>\n",
              "  </tbody>\n",
              "</table>\n",
              "</div>"
            ],
            "text/plain": [
              "   Cust_ID Cust_Name  Dealer_ID Country      State        City  ZipCode\n",
              "0      101   pushpak          1     ind        goa      panaji   402201\n",
              "1      102       raj          3     ind  karnataka    banglore   403315\n",
              "2      103    ranbir          4     ind     gujrat  ahemadabad   326665\n",
              "3      104   reyansh          5     ind     orrisa     cuttack   543211\n",
              "4      105    raunak          2     ind      delhi       noida   426232"
            ]
          },
          "metadata": {
            "tags": []
          },
          "execution_count": 8
        }
      ]
    },
    {
      "cell_type": "code",
      "metadata": {
        "colab": {
          "base_uri": "https://localhost:8080/",
          "height": 204
        },
        "id": "6Na_GuPqctcI",
        "outputId": "3b5cbaad-bbc3-4081-83e0-b11c1a925545"
      },
      "source": [
        "dealer_df.head()"
      ],
      "execution_count": 7,
      "outputs": [
        {
          "output_type": "execute_result",
          "data": {
            "text/html": [
              "<div>\n",
              "<style scoped>\n",
              "    .dataframe tbody tr th:only-of-type {\n",
              "        vertical-align: middle;\n",
              "    }\n",
              "\n",
              "    .dataframe tbody tr th {\n",
              "        vertical-align: top;\n",
              "    }\n",
              "\n",
              "    .dataframe thead th {\n",
              "        text-align: right;\n",
              "    }\n",
              "</style>\n",
              "<table border=\"1\" class=\"dataframe\">\n",
              "  <thead>\n",
              "    <tr style=\"text-align: right;\">\n",
              "      <th></th>\n",
              "      <th>Dealer_ID</th>\n",
              "      <th>Dealer_Name</th>\n",
              "      <th>Dealer_Country</th>\n",
              "      <th>State</th>\n",
              "      <th>City</th>\n",
              "      <th>ZIpCode</th>\n",
              "    </tr>\n",
              "  </thead>\n",
              "  <tbody>\n",
              "    <tr>\n",
              "      <th>0</th>\n",
              "      <td>1</td>\n",
              "      <td>Kenneth Schmitt</td>\n",
              "      <td>india</td>\n",
              "      <td>Goa</td>\n",
              "      <td>Panji</td>\n",
              "      <td>400001</td>\n",
              "    </tr>\n",
              "    <tr>\n",
              "      <th>1</th>\n",
              "      <td>2</td>\n",
              "      <td>Owen Mclaughlin</td>\n",
              "      <td>india</td>\n",
              "      <td>Delhi</td>\n",
              "      <td>Naoida</td>\n",
              "      <td>400002</td>\n",
              "    </tr>\n",
              "    <tr>\n",
              "      <th>2</th>\n",
              "      <td>3</td>\n",
              "      <td>Donald Repinski</td>\n",
              "      <td>india</td>\n",
              "      <td>Karnataka</td>\n",
              "      <td>Bangalore</td>\n",
              "      <td>400003</td>\n",
              "    </tr>\n",
              "    <tr>\n",
              "      <th>3</th>\n",
              "      <td>4</td>\n",
              "      <td>Rachel Oszust</td>\n",
              "      <td>india</td>\n",
              "      <td>Gujrat</td>\n",
              "      <td>Ahemdabad</td>\n",
              "      <td>400004</td>\n",
              "    </tr>\n",
              "    <tr>\n",
              "      <th>4</th>\n",
              "      <td>5</td>\n",
              "      <td>Lynn Knapp</td>\n",
              "      <td>india</td>\n",
              "      <td>Orrisa</td>\n",
              "      <td>Cuttack</td>\n",
              "      <td>400005</td>\n",
              "    </tr>\n",
              "  </tbody>\n",
              "</table>\n",
              "</div>"
            ],
            "text/plain": [
              "   Dealer_ID      Dealer_Name Dealer_Country      State       City  ZIpCode\n",
              "0          1  Kenneth Schmitt          india        Goa      Panji   400001\n",
              "1          2  Owen Mclaughlin          india      Delhi     Naoida   400002\n",
              "2          3  Donald Repinski          india  Karnataka  Bangalore   400003\n",
              "3          4    Rachel Oszust          india     Gujrat  Ahemdabad   400004\n",
              "4          5       Lynn Knapp          india     Orrisa    Cuttack   400005"
            ]
          },
          "metadata": {
            "tags": []
          },
          "execution_count": 7
        }
      ]
    },
    {
      "cell_type": "code",
      "metadata": {
        "colab": {
          "base_uri": "https://localhost:8080/"
        },
        "id": "E4xRX2s0YaCB",
        "outputId": "d45e4125-4b0f-4c20-f658-46fdd59a5125"
      },
      "source": [
        "# for 10 top  dealers \n",
        "x = Claims_df[\"Dealer_ID\"].value_counts()\n",
        "x.head(10)"
      ],
      "execution_count": 5,
      "outputs": [
        {
          "output_type": "execute_result",
          "data": {
            "text/plain": [
              "5       971\n",
              "2       922\n",
              "1       922\n",
              "3       922\n",
              "6       394\n",
              "4       218\n",
              "1990    176\n",
              "1237    176\n",
              "1236    176\n",
              "1252    176\n",
              "Name: Dealer_ID, dtype: int64"
            ]
          },
          "metadata": {
            "tags": []
          },
          "execution_count": 5
        }
      ]
    },
    {
      "cell_type": "code",
      "metadata": {
        "colab": {
          "base_uri": "https://localhost:8080/"
        },
        "id": "LfASy-fncKlD",
        "outputId": "f338f006-9228-4e83-a1c9-ed9125e67e72"
      },
      "source": [
        "# most defective parts claimed\n",
        "Claims_df[\"Part_ID\"].value_counts().head(10)"
      ],
      "execution_count": 6,
      "outputs": [
        {
          "output_type": "execute_result",
          "data": {
            "text/plain": [
              "906    4019\n",
              "905    3349\n",
              "901    3349\n",
              "907    3348\n",
              "904    2010\n",
              "903    2010\n",
              "902    2010\n",
              "Name: Part_ID, dtype: int64"
            ]
          },
          "metadata": {
            "tags": []
          },
          "execution_count": 6
        }
      ]
    },
    {
      "cell_type": "code",
      "metadata": {
        "colab": {
          "base_uri": "https://localhost:8080/",
          "height": 204
        },
        "id": "H6KFFfZ_dBrn",
        "outputId": "86f5ea5a-f755-4e6a-db53-bb6decff644f"
      },
      "source": [
        "Claims_df.head()"
      ],
      "execution_count": 9,
      "outputs": [
        {
          "output_type": "execute_result",
          "data": {
            "text/html": [
              "<div>\n",
              "<style scoped>\n",
              "    .dataframe tbody tr th:only-of-type {\n",
              "        vertical-align: middle;\n",
              "    }\n",
              "\n",
              "    .dataframe tbody tr th {\n",
              "        vertical-align: top;\n",
              "    }\n",
              "\n",
              "    .dataframe thead th {\n",
              "        text-align: right;\n",
              "    }\n",
              "</style>\n",
              "<table border=\"1\" class=\"dataframe\">\n",
              "  <thead>\n",
              "    <tr style=\"text-align: right;\">\n",
              "      <th></th>\n",
              "      <th>claim_id</th>\n",
              "      <th>claim_date</th>\n",
              "      <th>claim_amount</th>\n",
              "      <th>Dealer_ID</th>\n",
              "      <th>Cust_ID</th>\n",
              "      <th>Part_ID</th>\n",
              "      <th>Repair_or_Replace</th>\n",
              "    </tr>\n",
              "  </thead>\n",
              "  <tbody>\n",
              "    <tr>\n",
              "      <th>0</th>\n",
              "      <td>1</td>\n",
              "      <td>2020-04-01</td>\n",
              "      <td>36000</td>\n",
              "      <td>5</td>\n",
              "      <td>104</td>\n",
              "      <td>901</td>\n",
              "      <td>rpr</td>\n",
              "    </tr>\n",
              "    <tr>\n",
              "      <th>1</th>\n",
              "      <td>2</td>\n",
              "      <td>2020-04-01</td>\n",
              "      <td>42000</td>\n",
              "      <td>6</td>\n",
              "      <td>106</td>\n",
              "      <td>902</td>\n",
              "      <td>rplc</td>\n",
              "    </tr>\n",
              "    <tr>\n",
              "      <th>2</th>\n",
              "      <td>3</td>\n",
              "      <td>2020-04-01</td>\n",
              "      <td>45000</td>\n",
              "      <td>4</td>\n",
              "      <td>103</td>\n",
              "      <td>903</td>\n",
              "      <td>rpr</td>\n",
              "    </tr>\n",
              "    <tr>\n",
              "      <th>3</th>\n",
              "      <td>4</td>\n",
              "      <td>2020-04-01</td>\n",
              "      <td>56000</td>\n",
              "      <td>3</td>\n",
              "      <td>102</td>\n",
              "      <td>904</td>\n",
              "      <td>rplc</td>\n",
              "    </tr>\n",
              "    <tr>\n",
              "      <th>4</th>\n",
              "      <td>5</td>\n",
              "      <td>2020-04-01</td>\n",
              "      <td>39000</td>\n",
              "      <td>2</td>\n",
              "      <td>105</td>\n",
              "      <td>905</td>\n",
              "      <td>rpr</td>\n",
              "    </tr>\n",
              "  </tbody>\n",
              "</table>\n",
              "</div>"
            ],
            "text/plain": [
              "   claim_id claim_date  claim_amount  ...  Cust_ID  Part_ID  Repair_or_Replace\n",
              "0         1 2020-04-01         36000  ...      104      901                rpr\n",
              "1         2 2020-04-01         42000  ...      106      902               rplc\n",
              "2         3 2020-04-01         45000  ...      103      903                rpr\n",
              "3         4 2020-04-01         56000  ...      102      904               rplc\n",
              "4         5 2020-04-01         39000  ...      105      905                rpr\n",
              "\n",
              "[5 rows x 7 columns]"
            ]
          },
          "metadata": {
            "tags": []
          },
          "execution_count": 9
        }
      ]
    },
    {
      "cell_type": "code",
      "metadata": {
        "colab": {
          "base_uri": "https://localhost:8080/",
          "height": 204
        },
        "id": "K164QVgLdImT",
        "outputId": "15a2288e-bf22-42a9-a8e0-475482a9cd16"
      },
      "source": [
        "Parts_df.head()"
      ],
      "execution_count": 10,
      "outputs": [
        {
          "output_type": "execute_result",
          "data": {
            "text/html": [
              "<div>\n",
              "<style scoped>\n",
              "    .dataframe tbody tr th:only-of-type {\n",
              "        vertical-align: middle;\n",
              "    }\n",
              "\n",
              "    .dataframe tbody tr th {\n",
              "        vertical-align: top;\n",
              "    }\n",
              "\n",
              "    .dataframe thead th {\n",
              "        text-align: right;\n",
              "    }\n",
              "</style>\n",
              "<table border=\"1\" class=\"dataframe\">\n",
              "  <thead>\n",
              "    <tr style=\"text-align: right;\">\n",
              "      <th></th>\n",
              "      <th>Part_ID</th>\n",
              "      <th>Part_Name</th>\n",
              "      <th>Manufacturer_ID</th>\n",
              "      <th>Manf_Date</th>\n",
              "    </tr>\n",
              "  </thead>\n",
              "  <tbody>\n",
              "    <tr>\n",
              "      <th>0</th>\n",
              "      <td>901</td>\n",
              "      <td>brake pad</td>\n",
              "      <td>501</td>\n",
              "      <td>1996-08-12</td>\n",
              "    </tr>\n",
              "    <tr>\n",
              "      <th>1</th>\n",
              "      <td>902</td>\n",
              "      <td>axle</td>\n",
              "      <td>502</td>\n",
              "      <td>1997-03-03</td>\n",
              "    </tr>\n",
              "    <tr>\n",
              "      <th>2</th>\n",
              "      <td>903</td>\n",
              "      <td>tie rod</td>\n",
              "      <td>503</td>\n",
              "      <td>1997-06-13</td>\n",
              "    </tr>\n",
              "    <tr>\n",
              "      <th>3</th>\n",
              "      <td>904</td>\n",
              "      <td>differential</td>\n",
              "      <td>504</td>\n",
              "      <td>1997-01-14</td>\n",
              "    </tr>\n",
              "    <tr>\n",
              "      <th>4</th>\n",
              "      <td>905</td>\n",
              "      <td>rear suspension</td>\n",
              "      <td>505</td>\n",
              "      <td>1996-08-19</td>\n",
              "    </tr>\n",
              "  </tbody>\n",
              "</table>\n",
              "</div>"
            ],
            "text/plain": [
              "   Part_ID        Part_Name  Manufacturer_ID  Manf_Date\n",
              "0      901        brake pad              501 1996-08-12\n",
              "1      902            axle               502 1997-03-03\n",
              "2      903          tie rod              503 1997-06-13\n",
              "3      904     differential              504 1997-01-14\n",
              "4      905  rear suspension              505 1996-08-19"
            ]
          },
          "metadata": {
            "tags": []
          },
          "execution_count": 10
        }
      ]
    },
    {
      "cell_type": "code",
      "metadata": {
        "colab": {
          "base_uri": "https://localhost:8080/",
          "height": 204
        },
        "id": "VJorNpH5dkQG",
        "outputId": "35cb6318-6313-46bb-e453-726d4bc5f11d"
      },
      "source": [
        "Transactions_df.head()\n"
      ],
      "execution_count": 11,
      "outputs": [
        {
          "output_type": "execute_result",
          "data": {
            "text/html": [
              "<div>\n",
              "<style scoped>\n",
              "    .dataframe tbody tr th:only-of-type {\n",
              "        vertical-align: middle;\n",
              "    }\n",
              "\n",
              "    .dataframe tbody tr th {\n",
              "        vertical-align: top;\n",
              "    }\n",
              "\n",
              "    .dataframe thead th {\n",
              "        text-align: right;\n",
              "    }\n",
              "</style>\n",
              "<table border=\"1\" class=\"dataframe\">\n",
              "  <thead>\n",
              "    <tr style=\"text-align: right;\">\n",
              "      <th></th>\n",
              "      <th>transaction_id</th>\n",
              "      <th>claim_id</th>\n",
              "      <th>transaction_date</th>\n",
              "      <th>transaction_amount</th>\n",
              "    </tr>\n",
              "  </thead>\n",
              "  <tbody>\n",
              "    <tr>\n",
              "      <th>0</th>\n",
              "      <td>101</td>\n",
              "      <td>1</td>\n",
              "      <td>2020-04-01</td>\n",
              "      <td>36000</td>\n",
              "    </tr>\n",
              "    <tr>\n",
              "      <th>1</th>\n",
              "      <td>102</td>\n",
              "      <td>2</td>\n",
              "      <td>2020-04-01</td>\n",
              "      <td>42000</td>\n",
              "    </tr>\n",
              "    <tr>\n",
              "      <th>2</th>\n",
              "      <td>103</td>\n",
              "      <td>3</td>\n",
              "      <td>2020-04-01</td>\n",
              "      <td>45000</td>\n",
              "    </tr>\n",
              "    <tr>\n",
              "      <th>3</th>\n",
              "      <td>104</td>\n",
              "      <td>4</td>\n",
              "      <td>2020-04-01</td>\n",
              "      <td>56000</td>\n",
              "    </tr>\n",
              "    <tr>\n",
              "      <th>4</th>\n",
              "      <td>105</td>\n",
              "      <td>5</td>\n",
              "      <td>2020-04-01</td>\n",
              "      <td>39000</td>\n",
              "    </tr>\n",
              "  </tbody>\n",
              "</table>\n",
              "</div>"
            ],
            "text/plain": [
              "   transaction_id  claim_id transaction_date  transaction_amount\n",
              "0             101         1       2020-04-01               36000\n",
              "1             102         2       2020-04-01               42000\n",
              "2             103         3       2020-04-01               45000\n",
              "3             104         4       2020-04-01               56000\n",
              "4             105         5       2020-04-01               39000"
            ]
          },
          "metadata": {
            "tags": []
          },
          "execution_count": 11
        }
      ]
    },
    {
      "cell_type": "code",
      "metadata": {
        "colab": {
          "base_uri": "https://localhost:8080/",
          "height": 204
        },
        "id": "GUh7pnqkdrf3",
        "outputId": "6fcff04e-8bc5-442a-8eab-ea47ce2bee1c"
      },
      "source": [
        "Vendor_df.head()"
      ],
      "execution_count": 12,
      "outputs": [
        {
          "output_type": "execute_result",
          "data": {
            "text/html": [
              "<div>\n",
              "<style scoped>\n",
              "    .dataframe tbody tr th:only-of-type {\n",
              "        vertical-align: middle;\n",
              "    }\n",
              "\n",
              "    .dataframe tbody tr th {\n",
              "        vertical-align: top;\n",
              "    }\n",
              "\n",
              "    .dataframe thead th {\n",
              "        text-align: right;\n",
              "    }\n",
              "</style>\n",
              "<table border=\"1\" class=\"dataframe\">\n",
              "  <thead>\n",
              "    <tr style=\"text-align: right;\">\n",
              "      <th></th>\n",
              "      <th>Vendor_ID</th>\n",
              "      <th>Name</th>\n",
              "      <th>Country</th>\n",
              "      <th>State</th>\n",
              "      <th>City</th>\n",
              "      <th>ZIpCode</th>\n",
              "    </tr>\n",
              "  </thead>\n",
              "  <tbody>\n",
              "    <tr>\n",
              "      <th>0</th>\n",
              "      <td>501</td>\n",
              "      <td>Advik</td>\n",
              "      <td>ind</td>\n",
              "      <td>goa</td>\n",
              "      <td>panaji</td>\n",
              "      <td>400001</td>\n",
              "    </tr>\n",
              "    <tr>\n",
              "      <th>1</th>\n",
              "      <td>502</td>\n",
              "      <td>Rudra</td>\n",
              "      <td>ind</td>\n",
              "      <td>delhi</td>\n",
              "      <td>noida</td>\n",
              "      <td>400002</td>\n",
              "    </tr>\n",
              "    <tr>\n",
              "      <th>2</th>\n",
              "      <td>503</td>\n",
              "      <td>Aayansh</td>\n",
              "      <td>ind</td>\n",
              "      <td>karnataka</td>\n",
              "      <td>banglore</td>\n",
              "      <td>400003</td>\n",
              "    </tr>\n",
              "    <tr>\n",
              "      <th>3</th>\n",
              "      <td>504</td>\n",
              "      <td>Adinew</td>\n",
              "      <td>ind</td>\n",
              "      <td>gujrat</td>\n",
              "      <td>ahemadabad</td>\n",
              "      <td>400004</td>\n",
              "    </tr>\n",
              "    <tr>\n",
              "      <th>4</th>\n",
              "      <td>505</td>\n",
              "      <td>Dhruv</td>\n",
              "      <td>ind</td>\n",
              "      <td>orrisa</td>\n",
              "      <td>cuttack</td>\n",
              "      <td>400005</td>\n",
              "    </tr>\n",
              "  </tbody>\n",
              "</table>\n",
              "</div>"
            ],
            "text/plain": [
              "   Vendor_ID     Name Country      State        City  ZIpCode\n",
              "0        501    Advik     ind        goa      panaji   400001\n",
              "1        502    Rudra     ind      delhi       noida   400002\n",
              "2        503  Aayansh     ind  karnataka    banglore   400003\n",
              "3        504   Adinew     ind     gujrat  ahemadabad   400004\n",
              "4        505    Dhruv     ind     orrisa     cuttack   400005"
            ]
          },
          "metadata": {
            "tags": []
          },
          "execution_count": 12
        }
      ]
    },
    {
      "cell_type": "code",
      "metadata": {
        "id": "GoAbEZxkDVCM"
      },
      "source": [
        "# 2) Predict the parts that may fail according to the location, mileage and age:\n",
        "# Assumptions and note - Make to order scheme is applied for production, ,it's not possible to calculate mileage as \n",
        "# per available data thus it is assumed that part failure is independent of mileage "
      ],
      "execution_count": 21,
      "outputs": []
    },
    {
      "cell_type": "code",
      "metadata": {
        "id": "pkQDcycqmFRI",
        "colab": {
          "base_uri": "https://localhost:8080/",
          "height": 204
        },
        "outputId": "8ff8d2f0-cbbc-48e1-faa5-c1a760115d11"
      },
      "source": [
        "mergedclaim_transaction = pd.merge(Claims_df,Transactions_df, how = 'left',on ='claim_id')\n",
        "mergedclaim_transaction.head()"
      ],
      "execution_count": 99,
      "outputs": [
        {
          "output_type": "execute_result",
          "data": {
            "text/html": [
              "<div>\n",
              "<style scoped>\n",
              "    .dataframe tbody tr th:only-of-type {\n",
              "        vertical-align: middle;\n",
              "    }\n",
              "\n",
              "    .dataframe tbody tr th {\n",
              "        vertical-align: top;\n",
              "    }\n",
              "\n",
              "    .dataframe thead th {\n",
              "        text-align: right;\n",
              "    }\n",
              "</style>\n",
              "<table border=\"1\" class=\"dataframe\">\n",
              "  <thead>\n",
              "    <tr style=\"text-align: right;\">\n",
              "      <th></th>\n",
              "      <th>claim_id</th>\n",
              "      <th>claim_date</th>\n",
              "      <th>claim_amount</th>\n",
              "      <th>Dealer_ID</th>\n",
              "      <th>Cust_ID</th>\n",
              "      <th>Part_ID</th>\n",
              "      <th>Repair_or_Replace</th>\n",
              "      <th>transaction_id</th>\n",
              "      <th>transaction_date</th>\n",
              "      <th>transaction_amount</th>\n",
              "    </tr>\n",
              "  </thead>\n",
              "  <tbody>\n",
              "    <tr>\n",
              "      <th>0</th>\n",
              "      <td>1</td>\n",
              "      <td>2020-04-01</td>\n",
              "      <td>36000</td>\n",
              "      <td>5</td>\n",
              "      <td>104</td>\n",
              "      <td>901</td>\n",
              "      <td>rpr</td>\n",
              "      <td>101</td>\n",
              "      <td>2020-04-01</td>\n",
              "      <td>36000</td>\n",
              "    </tr>\n",
              "    <tr>\n",
              "      <th>1</th>\n",
              "      <td>2</td>\n",
              "      <td>2020-04-01</td>\n",
              "      <td>42000</td>\n",
              "      <td>6</td>\n",
              "      <td>106</td>\n",
              "      <td>902</td>\n",
              "      <td>rplc</td>\n",
              "      <td>102</td>\n",
              "      <td>2020-04-01</td>\n",
              "      <td>42000</td>\n",
              "    </tr>\n",
              "    <tr>\n",
              "      <th>2</th>\n",
              "      <td>3</td>\n",
              "      <td>2020-04-01</td>\n",
              "      <td>45000</td>\n",
              "      <td>4</td>\n",
              "      <td>103</td>\n",
              "      <td>903</td>\n",
              "      <td>rpr</td>\n",
              "      <td>103</td>\n",
              "      <td>2020-04-01</td>\n",
              "      <td>45000</td>\n",
              "    </tr>\n",
              "    <tr>\n",
              "      <th>3</th>\n",
              "      <td>4</td>\n",
              "      <td>2020-04-01</td>\n",
              "      <td>56000</td>\n",
              "      <td>3</td>\n",
              "      <td>102</td>\n",
              "      <td>904</td>\n",
              "      <td>rplc</td>\n",
              "      <td>104</td>\n",
              "      <td>2020-04-01</td>\n",
              "      <td>56000</td>\n",
              "    </tr>\n",
              "    <tr>\n",
              "      <th>4</th>\n",
              "      <td>5</td>\n",
              "      <td>2020-04-01</td>\n",
              "      <td>39000</td>\n",
              "      <td>2</td>\n",
              "      <td>105</td>\n",
              "      <td>905</td>\n",
              "      <td>rpr</td>\n",
              "      <td>105</td>\n",
              "      <td>2020-04-01</td>\n",
              "      <td>39000</td>\n",
              "    </tr>\n",
              "  </tbody>\n",
              "</table>\n",
              "</div>"
            ],
            "text/plain": [
              "   claim_id claim_date  ...  transaction_date  transaction_amount\n",
              "0         1 2020-04-01  ...        2020-04-01               36000\n",
              "1         2 2020-04-01  ...        2020-04-01               42000\n",
              "2         3 2020-04-01  ...        2020-04-01               45000\n",
              "3         4 2020-04-01  ...        2020-04-01               56000\n",
              "4         5 2020-04-01  ...        2020-04-01               39000\n",
              "\n",
              "[5 rows x 10 columns]"
            ]
          },
          "metadata": {
            "tags": []
          },
          "execution_count": 99
        }
      ]
    },
    {
      "cell_type": "code",
      "metadata": {
        "id": "AoV6rOE2Si9V",
        "colab": {
          "base_uri": "https://localhost:8080/",
          "height": 301
        },
        "outputId": "a60198b6-cb99-4627-c648-cdd6e772596c"
      },
      "source": [
        "sns.barplot(x=\"Part_ID\",y = 'transaction_amount',hue ='Repair_or_Replace',data = mergedclaim_transaction)"
      ],
      "execution_count": 100,
      "outputs": [
        {
          "output_type": "execute_result",
          "data": {
            "text/plain": [
              "<matplotlib.axes._subplots.AxesSubplot at 0x7ff104ca6a10>"
            ]
          },
          "metadata": {
            "tags": []
          },
          "execution_count": 100
        },
        {
          "output_type": "display_data",
          "data": {
            "image/png": "[encoded data removed]",
            "text/plain": [
              "<Figure size 432x288 with 1 Axes>"
            ]
          },
          "metadata": {
            "tags": [],
            "needs_background": "light"
          }
        }
      ]
    },
    {
      "cell_type": "code",
      "metadata": {
        "id": "xj1XhcctYmDt",
        "colab": {
          "base_uri": "https://localhost:8080/",
          "height": 309
        },
        "outputId": "2af43e07-f955-4204-8cd8-4af05f2d8366"
      },
      "source": [
        "# for location it is assumed that vendor location is the best choice\n",
        "mergedclaim_transaction[\"Vendor_Location\"] = mergedclaim_transaction['Dealer_ID'].map(dealer_df['City'])\n",
        "mergedclaim_transaction.head()\n"
      ],
      "execution_count": 178,
      "outputs": [
        {
          "output_type": "execute_result",
          "data": {
            "text/html": [
              "<div>\n",
              "<style scoped>\n",
              "    .dataframe tbody tr th:only-of-type {\n",
              "        vertical-align: middle;\n",
              "    }\n",
              "\n",
              "    .dataframe tbody tr th {\n",
              "        vertical-align: top;\n",
              "    }\n",
              "\n",
              "    .dataframe thead th {\n",
              "        text-align: right;\n",
              "    }\n",
              "</style>\n",
              "<table border=\"1\" class=\"dataframe\">\n",
              "  <thead>\n",
              "    <tr style=\"text-align: right;\">\n",
              "      <th></th>\n",
              "      <th>claim_id</th>\n",
              "      <th>claim_date</th>\n",
              "      <th>claim_amount</th>\n",
              "      <th>Dealer_ID</th>\n",
              "      <th>Cust_ID</th>\n",
              "      <th>Part_ID</th>\n",
              "      <th>transaction_id</th>\n",
              "      <th>transaction_date</th>\n",
              "      <th>transaction_amount</th>\n",
              "      <th>Part_Name</th>\n",
              "      <th>Manufacturer_ID</th>\n",
              "      <th>Manf_Date</th>\n",
              "      <th>Age</th>\n",
              "      <th>Vendor_Location_Bangalore</th>\n",
              "      <th>Vendor_Location_Cuttack</th>\n",
              "      <th>Vendor_Location_Mumbai</th>\n",
              "      <th>Vendor_Location_Naoida</th>\n",
              "      <th>Vendor_Location_Panji</th>\n",
              "      <th>Repair_or_Replace_rpr</th>\n",
              "      <th>Vendor_Location</th>\n",
              "    </tr>\n",
              "  </thead>\n",
              "  <tbody>\n",
              "    <tr>\n",
              "      <th>0</th>\n",
              "      <td>1</td>\n",
              "      <td>2020-04-01</td>\n",
              "      <td>36000</td>\n",
              "      <td>5</td>\n",
              "      <td>104</td>\n",
              "      <td>901</td>\n",
              "      <td>101</td>\n",
              "      <td>2020-04-01</td>\n",
              "      <td>36000</td>\n",
              "      <td>brake pad</td>\n",
              "      <td>501</td>\n",
              "      <td>1996-08-12</td>\n",
              "      <td>8633</td>\n",
              "      <td>0</td>\n",
              "      <td>0</td>\n",
              "      <td>1</td>\n",
              "      <td>0</td>\n",
              "      <td>0</td>\n",
              "      <td>1</td>\n",
              "      <td>Mumbai</td>\n",
              "    </tr>\n",
              "    <tr>\n",
              "      <th>1</th>\n",
              "      <td>2</td>\n",
              "      <td>2020-04-01</td>\n",
              "      <td>42000</td>\n",
              "      <td>6</td>\n",
              "      <td>106</td>\n",
              "      <td>902</td>\n",
              "      <td>102</td>\n",
              "      <td>2020-04-01</td>\n",
              "      <td>42000</td>\n",
              "      <td>axle</td>\n",
              "      <td>502</td>\n",
              "      <td>1997-03-03</td>\n",
              "      <td>8430</td>\n",
              "      <td>0</td>\n",
              "      <td>0</td>\n",
              "      <td>0</td>\n",
              "      <td>0</td>\n",
              "      <td>1</td>\n",
              "      <td>0</td>\n",
              "      <td>Panji</td>\n",
              "    </tr>\n",
              "    <tr>\n",
              "      <th>2</th>\n",
              "      <td>3</td>\n",
              "      <td>2020-04-01</td>\n",
              "      <td>45000</td>\n",
              "      <td>4</td>\n",
              "      <td>103</td>\n",
              "      <td>903</td>\n",
              "      <td>103</td>\n",
              "      <td>2020-04-01</td>\n",
              "      <td>45000</td>\n",
              "      <td>tie rod</td>\n",
              "      <td>503</td>\n",
              "      <td>1997-06-13</td>\n",
              "      <td>8328</td>\n",
              "      <td>0</td>\n",
              "      <td>1</td>\n",
              "      <td>0</td>\n",
              "      <td>0</td>\n",
              "      <td>0</td>\n",
              "      <td>1</td>\n",
              "      <td>Cuttack</td>\n",
              "    </tr>\n",
              "    <tr>\n",
              "      <th>3</th>\n",
              "      <td>4</td>\n",
              "      <td>2020-04-01</td>\n",
              "      <td>56000</td>\n",
              "      <td>3</td>\n",
              "      <td>102</td>\n",
              "      <td>904</td>\n",
              "      <td>104</td>\n",
              "      <td>2020-04-01</td>\n",
              "      <td>56000</td>\n",
              "      <td>differential</td>\n",
              "      <td>504</td>\n",
              "      <td>1997-01-14</td>\n",
              "      <td>8478</td>\n",
              "      <td>0</td>\n",
              "      <td>0</td>\n",
              "      <td>0</td>\n",
              "      <td>0</td>\n",
              "      <td>0</td>\n",
              "      <td>0</td>\n",
              "      <td>Ahemdabad</td>\n",
              "    </tr>\n",
              "    <tr>\n",
              "      <th>4</th>\n",
              "      <td>5</td>\n",
              "      <td>2020-04-01</td>\n",
              "      <td>39000</td>\n",
              "      <td>2</td>\n",
              "      <td>105</td>\n",
              "      <td>905</td>\n",
              "      <td>105</td>\n",
              "      <td>2020-04-01</td>\n",
              "      <td>39000</td>\n",
              "      <td>rear suspension</td>\n",
              "      <td>505</td>\n",
              "      <td>1996-08-19</td>\n",
              "      <td>8626</td>\n",
              "      <td>1</td>\n",
              "      <td>0</td>\n",
              "      <td>0</td>\n",
              "      <td>0</td>\n",
              "      <td>0</td>\n",
              "      <td>1</td>\n",
              "      <td>Bangalore</td>\n",
              "    </tr>\n",
              "  </tbody>\n",
              "</table>\n",
              "</div>"
            ],
            "text/plain": [
              "   claim_id claim_date  ...  Repair_or_Replace_rpr  Vendor_Location\n",
              "0         1 2020-04-01  ...                      1           Mumbai\n",
              "1         2 2020-04-01  ...                      0            Panji\n",
              "2         3 2020-04-01  ...                      1          Cuttack\n",
              "3         4 2020-04-01  ...                      0        Ahemdabad\n",
              "4         5 2020-04-01  ...                      1        Bangalore\n",
              "\n",
              "[5 rows x 20 columns]"
            ]
          },
          "metadata": {
            "tags": []
          },
          "execution_count": 178
        }
      ]
    },
    {
      "cell_type": "code",
      "metadata": {
        "colab": {
          "base_uri": "https://localhost:8080/",
          "height": 297
        },
        "id": "PA4gp8NXgnJX",
        "outputId": "fe65e1dc-1467-423f-bca9-4bd80e0f2586"
      },
      "source": [
        "sns.barplot(y='transaction_amount',x = 'Vendor_Location',hue = 'Repair_or_Replace',data = mergedclaim_transaction)"
      ],
      "execution_count": 102,
      "outputs": [
        {
          "output_type": "execute_result",
          "data": {
            "text/plain": [
              "<matplotlib.axes._subplots.AxesSubplot at 0x7ff0fe2e75d0>"
            ]
          },
          "metadata": {
            "tags": []
          },
          "execution_count": 102
        },
        {
          "output_type": "display_data",
          "data": {
            "image/png": "[encoded data removed]",
            "text/plain": [
              "<Figure size 432x288 with 1 Axes>"
            ]
          },
          "metadata": {
            "tags": [],
            "needs_background": "light"
          }
        }
      ]
    },
    {
      "cell_type": "code",
      "metadata": {
        "colab": {
          "base_uri": "https://localhost:8080/",
          "height": 129
        },
        "id": "btzzkf0uazn7",
        "outputId": "414853d4-1ab6-4d16-b5f4-19072a5ae7bc"
      },
      "source": [
        "mergedclaim_transaction.groupby(\"City)['Part_ID'].value_counts().head()"
      ],
      "execution_count": 177,
      "outputs": [
        {
          "output_type": "error",
          "ename": "SyntaxError",
          "evalue": "ignored",
          "traceback": [
            "\u001b[0;36m  File \u001b[0;32m\"<ipython-input-177-8fe1073a814c>\"\u001b[0;36m, line \u001b[0;32m1\u001b[0m\n\u001b[0;31m    mergedclaim_transaction.groupby(\"City)['Part_ID']\u001b[0m\n\u001b[0m                                                     ^\u001b[0m\n\u001b[0;31mSyntaxError\u001b[0m\u001b[0;31m:\u001b[0m EOL while scanning string literal\n"
          ]
        }
      ]
    },
    {
      "cell_type": "code",
      "metadata": {
        "id": "JAlSiALOsdOS"
      },
      "source": [
        "mergedclaim_transaction = pd.merge(mergedclaim_transaction,Parts_df,how ='left',on ='Part_ID')"
      ],
      "execution_count": 103,
      "outputs": []
    },
    {
      "cell_type": "code",
      "metadata": {
        "id": "9t74Lma4uI8N"
      },
      "source": [
        "mergedclaim_transaction['Age'] = mergedclaim_transaction['claim_date'] - mergedclaim_transaction['Manf_Date'] "
      ],
      "execution_count": 104,
      "outputs": []
    },
    {
      "cell_type": "code",
      "metadata": {
        "colab": {
          "base_uri": "https://localhost:8080/",
          "height": 609
        },
        "id": "IyzNJtYBsHS8",
        "outputId": "ae634e90-6b48-4936-9fa1-42e1c26f8533"
      },
      "source": [
        "mergedclaim_transaction"
      ],
      "execution_count": 105,
      "outputs": [
        {
          "output_type": "execute_result",
          "data": {
            "text/html": [
              "<div>\n",
              "<style scoped>\n",
              "    .dataframe tbody tr th:only-of-type {\n",
              "        vertical-align: middle;\n",
              "    }\n",
              "\n",
              "    .dataframe tbody tr th {\n",
              "        vertical-align: top;\n",
              "    }\n",
              "\n",
              "    .dataframe thead th {\n",
              "        text-align: right;\n",
              "    }\n",
              "</style>\n",
              "<table border=\"1\" class=\"dataframe\">\n",
              "  <thead>\n",
              "    <tr style=\"text-align: right;\">\n",
              "      <th></th>\n",
              "      <th>claim_id</th>\n",
              "      <th>claim_date</th>\n",
              "      <th>claim_amount</th>\n",
              "      <th>Dealer_ID</th>\n",
              "      <th>Cust_ID</th>\n",
              "      <th>Part_ID</th>\n",
              "      <th>Repair_or_Replace</th>\n",
              "      <th>transaction_id</th>\n",
              "      <th>transaction_date</th>\n",
              "      <th>transaction_amount</th>\n",
              "      <th>Vendor_Location</th>\n",
              "      <th>Part_Name</th>\n",
              "      <th>Manufacturer_ID</th>\n",
              "      <th>Manf_Date</th>\n",
              "      <th>Age</th>\n",
              "    </tr>\n",
              "  </thead>\n",
              "  <tbody>\n",
              "    <tr>\n",
              "      <th>0</th>\n",
              "      <td>1</td>\n",
              "      <td>2020-04-01</td>\n",
              "      <td>36000</td>\n",
              "      <td>5</td>\n",
              "      <td>104</td>\n",
              "      <td>901</td>\n",
              "      <td>rpr</td>\n",
              "      <td>101</td>\n",
              "      <td>2020-04-01</td>\n",
              "      <td>36000</td>\n",
              "      <td>Mumbai</td>\n",
              "      <td>brake pad</td>\n",
              "      <td>501</td>\n",
              "      <td>1996-08-12</td>\n",
              "      <td>8633 days</td>\n",
              "    </tr>\n",
              "    <tr>\n",
              "      <th>1</th>\n",
              "      <td>2</td>\n",
              "      <td>2020-04-01</td>\n",
              "      <td>42000</td>\n",
              "      <td>6</td>\n",
              "      <td>106</td>\n",
              "      <td>902</td>\n",
              "      <td>rplc</td>\n",
              "      <td>102</td>\n",
              "      <td>2020-04-01</td>\n",
              "      <td>42000</td>\n",
              "      <td>Panji</td>\n",
              "      <td>axle</td>\n",
              "      <td>502</td>\n",
              "      <td>1997-03-03</td>\n",
              "      <td>8430 days</td>\n",
              "    </tr>\n",
              "    <tr>\n",
              "      <th>2</th>\n",
              "      <td>3</td>\n",
              "      <td>2020-04-01</td>\n",
              "      <td>45000</td>\n",
              "      <td>4</td>\n",
              "      <td>103</td>\n",
              "      <td>903</td>\n",
              "      <td>rpr</td>\n",
              "      <td>103</td>\n",
              "      <td>2020-04-01</td>\n",
              "      <td>45000</td>\n",
              "      <td>Cuttack</td>\n",
              "      <td>tie rod</td>\n",
              "      <td>503</td>\n",
              "      <td>1997-06-13</td>\n",
              "      <td>8328 days</td>\n",
              "    </tr>\n",
              "    <tr>\n",
              "      <th>3</th>\n",
              "      <td>4</td>\n",
              "      <td>2020-04-01</td>\n",
              "      <td>56000</td>\n",
              "      <td>3</td>\n",
              "      <td>102</td>\n",
              "      <td>904</td>\n",
              "      <td>rplc</td>\n",
              "      <td>104</td>\n",
              "      <td>2020-04-01</td>\n",
              "      <td>56000</td>\n",
              "      <td>Ahemdabad</td>\n",
              "      <td>differential</td>\n",
              "      <td>504</td>\n",
              "      <td>1997-01-14</td>\n",
              "      <td>8478 days</td>\n",
              "    </tr>\n",
              "    <tr>\n",
              "      <th>4</th>\n",
              "      <td>5</td>\n",
              "      <td>2020-04-01</td>\n",
              "      <td>39000</td>\n",
              "      <td>2</td>\n",
              "      <td>105</td>\n",
              "      <td>905</td>\n",
              "      <td>rpr</td>\n",
              "      <td>105</td>\n",
              "      <td>2020-04-01</td>\n",
              "      <td>39000</td>\n",
              "      <td>Bangalore</td>\n",
              "      <td>rear suspension</td>\n",
              "      <td>505</td>\n",
              "      <td>1996-08-19</td>\n",
              "      <td>8626 days</td>\n",
              "    </tr>\n",
              "    <tr>\n",
              "      <th>...</th>\n",
              "      <td>...</td>\n",
              "      <td>...</td>\n",
              "      <td>...</td>\n",
              "      <td>...</td>\n",
              "      <td>...</td>\n",
              "      <td>...</td>\n",
              "      <td>...</td>\n",
              "      <td>...</td>\n",
              "      <td>...</td>\n",
              "      <td>...</td>\n",
              "      <td>...</td>\n",
              "      <td>...</td>\n",
              "      <td>...</td>\n",
              "      <td>...</td>\n",
              "      <td>...</td>\n",
              "    </tr>\n",
              "    <tr>\n",
              "      <th>20090</th>\n",
              "      <td>20091</td>\n",
              "      <td>2021-01-24</td>\n",
              "      <td>53000</td>\n",
              "      <td>1274</td>\n",
              "      <td>43974</td>\n",
              "      <td>906</td>\n",
              "      <td>rplc</td>\n",
              "      <td>20091</td>\n",
              "      <td>2021-01-24</td>\n",
              "      <td>53000</td>\n",
              "      <td>Cuttack</td>\n",
              "      <td>radiator</td>\n",
              "      <td>506</td>\n",
              "      <td>1997-03-24</td>\n",
              "      <td>8707 days</td>\n",
              "    </tr>\n",
              "    <tr>\n",
              "      <th>20091</th>\n",
              "      <td>20092</td>\n",
              "      <td>2021-01-24</td>\n",
              "      <td>36000</td>\n",
              "      <td>1275</td>\n",
              "      <td>43975</td>\n",
              "      <td>907</td>\n",
              "      <td>rplc</td>\n",
              "      <td>20092</td>\n",
              "      <td>2021-01-24</td>\n",
              "      <td>36000</td>\n",
              "      <td>Mumbai</td>\n",
              "      <td>clutch kits</td>\n",
              "      <td>503</td>\n",
              "      <td>1997-05-12</td>\n",
              "      <td>8658 days</td>\n",
              "    </tr>\n",
              "    <tr>\n",
              "      <th>20092</th>\n",
              "      <td>20093</td>\n",
              "      <td>2021-01-24</td>\n",
              "      <td>46000</td>\n",
              "      <td>1276</td>\n",
              "      <td>43976</td>\n",
              "      <td>905</td>\n",
              "      <td>rplc</td>\n",
              "      <td>20093</td>\n",
              "      <td>2021-01-24</td>\n",
              "      <td>46000</td>\n",
              "      <td>Panji</td>\n",
              "      <td>rear suspension</td>\n",
              "      <td>505</td>\n",
              "      <td>1996-08-19</td>\n",
              "      <td>8924 days</td>\n",
              "    </tr>\n",
              "    <tr>\n",
              "      <th>20093</th>\n",
              "      <td>20094</td>\n",
              "      <td>2021-01-24</td>\n",
              "      <td>56000</td>\n",
              "      <td>1277</td>\n",
              "      <td>43977</td>\n",
              "      <td>904</td>\n",
              "      <td>rplc</td>\n",
              "      <td>20094</td>\n",
              "      <td>2021-01-24</td>\n",
              "      <td>56000</td>\n",
              "      <td>Naoida</td>\n",
              "      <td>differential</td>\n",
              "      <td>504</td>\n",
              "      <td>1997-01-14</td>\n",
              "      <td>8776 days</td>\n",
              "    </tr>\n",
              "    <tr>\n",
              "      <th>20094</th>\n",
              "      <td>20095</td>\n",
              "      <td>2021-01-24</td>\n",
              "      <td>33000</td>\n",
              "      <td>1278</td>\n",
              "      <td>43978</td>\n",
              "      <td>902</td>\n",
              "      <td>rpr</td>\n",
              "      <td>20095</td>\n",
              "      <td>2021-01-24</td>\n",
              "      <td>33000</td>\n",
              "      <td>Bangalore</td>\n",
              "      <td>axle</td>\n",
              "      <td>502</td>\n",
              "      <td>1997-03-03</td>\n",
              "      <td>8728 days</td>\n",
              "    </tr>\n",
              "  </tbody>\n",
              "</table>\n",
              "<p>20095 rows × 15 columns</p>\n",
              "</div>"
            ],
            "text/plain": [
              "       claim_id claim_date  claim_amount  ...  Manufacturer_ID  Manf_Date       Age\n",
              "0             1 2020-04-01         36000  ...              501 1996-08-12 8633 days\n",
              "1             2 2020-04-01         42000  ...              502 1997-03-03 8430 days\n",
              "2             3 2020-04-01         45000  ...              503 1997-06-13 8328 days\n",
              "3             4 2020-04-01         56000  ...              504 1997-01-14 8478 days\n",
              "4             5 2020-04-01         39000  ...              505 1996-08-19 8626 days\n",
              "...         ...        ...           ...  ...              ...        ...       ...\n",
              "20090     20091 2021-01-24         53000  ...              506 1997-03-24 8707 days\n",
              "20091     20092 2021-01-24         36000  ...              503 1997-05-12 8658 days\n",
              "20092     20093 2021-01-24         46000  ...              505 1996-08-19 8924 days\n",
              "20093     20094 2021-01-24         56000  ...              504 1997-01-14 8776 days\n",
              "20094     20095 2021-01-24         33000  ...              502 1997-03-03 8728 days\n",
              "\n",
              "[20095 rows x 15 columns]"
            ]
          },
          "metadata": {
            "tags": []
          },
          "execution_count": 105
        }
      ]
    },
    {
      "cell_type": "code",
      "metadata": {
        "id": "mdVBgXmav-a4"
      },
      "source": [
        "import datetime \n",
        "mergedclaim_transaction[\"Age\"] = mergedclaim_transaction[\"Age\"].apply(lambda x: x.days)"
      ],
      "execution_count": 106,
      "outputs": []
    },
    {
      "cell_type": "code",
      "metadata": {
        "colab": {
          "base_uri": "https://localhost:8080/",
          "height": 386
        },
        "id": "OPw-YLcu0UFO",
        "outputId": "139f437c-f824-40c7-9aac-0d76a8da8ffa"
      },
      "source": [
        "sns.displot(mergedclaim_transaction['Part_ID'],kde =True)"
      ],
      "execution_count": 107,
      "outputs": [
        {
          "output_type": "execute_result",
          "data": {
            "text/plain": [
              "<seaborn.axisgrid.FacetGrid at 0x7ff0fdeebe90>"
            ]
          },
          "metadata": {
            "tags": []
          },
          "execution_count": 107
        },
        {
          "output_type": "display_data",
          "data": {
            "image/png": "[encoded data removed]",
            "text/plain": [
              "<Figure size 360x360 with 1 Axes>"
            ]
          },
          "metadata": {
            "tags": [],
            "needs_background": "light"
          }
        }
      ]
    },
    {
      "cell_type": "code",
      "metadata": {
        "colab": {
          "base_uri": "https://localhost:8080/",
          "height": 301
        },
        "id": "QNS42W6fumMw",
        "outputId": "68de0a22-2b50-4041-9098-21e0d3699bbd"
      },
      "source": [
        "sns.violinplot(y='Age',x = 'Part_ID',hue = 'Repair_or_Replace',data = mergedclaim_transaction)"
      ],
      "execution_count": 108,
      "outputs": [
        {
          "output_type": "execute_result",
          "data": {
            "text/plain": [
              "<matplotlib.axes._subplots.AxesSubplot at 0x7ff10398d150>"
            ]
          },
          "metadata": {
            "tags": []
          },
          "execution_count": 108
        },
        {
          "output_type": "display_data",
          "data": {
            "image/png": "[encoded data removed]",
            "text/plain": [
              "<Figure size 432x288 with 1 Axes>"
            ]
          },
          "metadata": {
            "tags": [],
            "needs_background": "light"
          }
        }
      ]
    },
    {
      "cell_type": "code",
      "metadata": {
        "colab": {
          "base_uri": "https://localhost:8080/",
          "height": 458
        },
        "id": "tEya6reH0ATj",
        "outputId": "096af37b-8863-4ab4-fae0-3099a7270561"
      },
      "source": [
        "sns.jointplot(y='Age',x = 'Part_ID',hue = 'Repair_or_Replace',data = mergedclaim_transaction)"
      ],
      "execution_count": 109,
      "outputs": [
        {
          "output_type": "execute_result",
          "data": {
            "text/plain": [
              "<seaborn.axisgrid.JointGrid at 0x7ff104400d10>"
            ]
          },
          "metadata": {
            "tags": []
          },
          "execution_count": 109
        },
        {
          "output_type": "display_data",
          "data": {
            "image/png": "[encoded data removed]",
            "text/plain": [
              "<Figure size 432x432 with 3 Axes>"
            ]
          },
          "metadata": {
            "tags": [],
            "needs_background": "light"
          }
        }
      ]
    },
    {
      "cell_type": "code",
      "metadata": {
        "colab": {
          "base_uri": "https://localhost:8080/",
          "height": 609
        },
        "id": "FYc6IUxnnzgh",
        "outputId": "a041e46f-dad0-4664-f23c-93a819c83790"
      },
      "source": [
        "mergedclaim_transaction =pd.get_dummies(mergedclaim_transaction,columns = [\"Vendor_Location\",\"Repair_or_Replace\"],drop_first = True)\n",
        "mergedclaim_transaction"
      ],
      "execution_count": 123,
      "outputs": [
        {
          "output_type": "execute_result",
          "data": {
            "text/html": [
              "<div>\n",
              "<style scoped>\n",
              "    .dataframe tbody tr th:only-of-type {\n",
              "        vertical-align: middle;\n",
              "    }\n",
              "\n",
              "    .dataframe tbody tr th {\n",
              "        vertical-align: top;\n",
              "    }\n",
              "\n",
              "    .dataframe thead th {\n",
              "        text-align: right;\n",
              "    }\n",
              "</style>\n",
              "<table border=\"1\" class=\"dataframe\">\n",
              "  <thead>\n",
              "    <tr style=\"text-align: right;\">\n",
              "      <th></th>\n",
              "      <th>claim_id</th>\n",
              "      <th>claim_date</th>\n",
              "      <th>claim_amount</th>\n",
              "      <th>Dealer_ID</th>\n",
              "      <th>Cust_ID</th>\n",
              "      <th>Part_ID</th>\n",
              "      <th>transaction_id</th>\n",
              "      <th>transaction_date</th>\n",
              "      <th>transaction_amount</th>\n",
              "      <th>Part_Name</th>\n",
              "      <th>Manufacturer_ID</th>\n",
              "      <th>Manf_Date</th>\n",
              "      <th>Age</th>\n",
              "      <th>Vendor_Location_Bangalore</th>\n",
              "      <th>Vendor_Location_Cuttack</th>\n",
              "      <th>Vendor_Location_Mumbai</th>\n",
              "      <th>Vendor_Location_Naoida</th>\n",
              "      <th>Vendor_Location_Panji</th>\n",
              "      <th>Repair_or_Replace_rpr</th>\n",
              "    </tr>\n",
              "  </thead>\n",
              "  <tbody>\n",
              "    <tr>\n",
              "      <th>0</th>\n",
              "      <td>1</td>\n",
              "      <td>2020-04-01</td>\n",
              "      <td>36000</td>\n",
              "      <td>5</td>\n",
              "      <td>104</td>\n",
              "      <td>901</td>\n",
              "      <td>101</td>\n",
              "      <td>2020-04-01</td>\n",
              "      <td>36000</td>\n",
              "      <td>brake pad</td>\n",
              "      <td>501</td>\n",
              "      <td>1996-08-12</td>\n",
              "      <td>8633</td>\n",
              "      <td>0</td>\n",
              "      <td>0</td>\n",
              "      <td>1</td>\n",
              "      <td>0</td>\n",
              "      <td>0</td>\n",
              "      <td>1</td>\n",
              "    </tr>\n",
              "    <tr>\n",
              "      <th>1</th>\n",
              "      <td>2</td>\n",
              "      <td>2020-04-01</td>\n",
              "      <td>42000</td>\n",
              "      <td>6</td>\n",
              "      <td>106</td>\n",
              "      <td>902</td>\n",
              "      <td>102</td>\n",
              "      <td>2020-04-01</td>\n",
              "      <td>42000</td>\n",
              "      <td>axle</td>\n",
              "      <td>502</td>\n",
              "      <td>1997-03-03</td>\n",
              "      <td>8430</td>\n",
              "      <td>0</td>\n",
              "      <td>0</td>\n",
              "      <td>0</td>\n",
              "      <td>0</td>\n",
              "      <td>1</td>\n",
              "      <td>0</td>\n",
              "    </tr>\n",
              "    <tr>\n",
              "      <th>2</th>\n",
              "      <td>3</td>\n",
              "      <td>2020-04-01</td>\n",
              "      <td>45000</td>\n",
              "      <td>4</td>\n",
              "      <td>103</td>\n",
              "      <td>903</td>\n",
              "      <td>103</td>\n",
              "      <td>2020-04-01</td>\n",
              "      <td>45000</td>\n",
              "      <td>tie rod</td>\n",
              "      <td>503</td>\n",
              "      <td>1997-06-13</td>\n",
              "      <td>8328</td>\n",
              "      <td>0</td>\n",
              "      <td>1</td>\n",
              "      <td>0</td>\n",
              "      <td>0</td>\n",
              "      <td>0</td>\n",
              "      <td>1</td>\n",
              "    </tr>\n",
              "    <tr>\n",
              "      <th>3</th>\n",
              "      <td>4</td>\n",
              "      <td>2020-04-01</td>\n",
              "      <td>56000</td>\n",
              "      <td>3</td>\n",
              "      <td>102</td>\n",
              "      <td>904</td>\n",
              "      <td>104</td>\n",
              "      <td>2020-04-01</td>\n",
              "      <td>56000</td>\n",
              "      <td>differential</td>\n",
              "      <td>504</td>\n",
              "      <td>1997-01-14</td>\n",
              "      <td>8478</td>\n",
              "      <td>0</td>\n",
              "      <td>0</td>\n",
              "      <td>0</td>\n",
              "      <td>0</td>\n",
              "      <td>0</td>\n",
              "      <td>0</td>\n",
              "    </tr>\n",
              "    <tr>\n",
              "      <th>4</th>\n",
              "      <td>5</td>\n",
              "      <td>2020-04-01</td>\n",
              "      <td>39000</td>\n",
              "      <td>2</td>\n",
              "      <td>105</td>\n",
              "      <td>905</td>\n",
              "      <td>105</td>\n",
              "      <td>2020-04-01</td>\n",
              "      <td>39000</td>\n",
              "      <td>rear suspension</td>\n",
              "      <td>505</td>\n",
              "      <td>1996-08-19</td>\n",
              "      <td>8626</td>\n",
              "      <td>1</td>\n",
              "      <td>0</td>\n",
              "      <td>0</td>\n",
              "      <td>0</td>\n",
              "      <td>0</td>\n",
              "      <td>1</td>\n",
              "    </tr>\n",
              "    <tr>\n",
              "      <th>...</th>\n",
              "      <td>...</td>\n",
              "      <td>...</td>\n",
              "      <td>...</td>\n",
              "      <td>...</td>\n",
              "      <td>...</td>\n",
              "      <td>...</td>\n",
              "      <td>...</td>\n",
              "      <td>...</td>\n",
              "      <td>...</td>\n",
              "      <td>...</td>\n",
              "      <td>...</td>\n",
              "      <td>...</td>\n",
              "      <td>...</td>\n",
              "      <td>...</td>\n",
              "      <td>...</td>\n",
              "      <td>...</td>\n",
              "      <td>...</td>\n",
              "      <td>...</td>\n",
              "      <td>...</td>\n",
              "    </tr>\n",
              "    <tr>\n",
              "      <th>20090</th>\n",
              "      <td>20091</td>\n",
              "      <td>2021-01-24</td>\n",
              "      <td>53000</td>\n",
              "      <td>1274</td>\n",
              "      <td>43974</td>\n",
              "      <td>906</td>\n",
              "      <td>20091</td>\n",
              "      <td>2021-01-24</td>\n",
              "      <td>53000</td>\n",
              "      <td>radiator</td>\n",
              "      <td>506</td>\n",
              "      <td>1997-03-24</td>\n",
              "      <td>8707</td>\n",
              "      <td>0</td>\n",
              "      <td>1</td>\n",
              "      <td>0</td>\n",
              "      <td>0</td>\n",
              "      <td>0</td>\n",
              "      <td>0</td>\n",
              "    </tr>\n",
              "    <tr>\n",
              "      <th>20091</th>\n",
              "      <td>20092</td>\n",
              "      <td>2021-01-24</td>\n",
              "      <td>36000</td>\n",
              "      <td>1275</td>\n",
              "      <td>43975</td>\n",
              "      <td>907</td>\n",
              "      <td>20092</td>\n",
              "      <td>2021-01-24</td>\n",
              "      <td>36000</td>\n",
              "      <td>clutch kits</td>\n",
              "      <td>503</td>\n",
              "      <td>1997-05-12</td>\n",
              "      <td>8658</td>\n",
              "      <td>0</td>\n",
              "      <td>0</td>\n",
              "      <td>1</td>\n",
              "      <td>0</td>\n",
              "      <td>0</td>\n",
              "      <td>0</td>\n",
              "    </tr>\n",
              "    <tr>\n",
              "      <th>20092</th>\n",
              "      <td>20093</td>\n",
              "      <td>2021-01-24</td>\n",
              "      <td>46000</td>\n",
              "      <td>1276</td>\n",
              "      <td>43976</td>\n",
              "      <td>905</td>\n",
              "      <td>20093</td>\n",
              "      <td>2021-01-24</td>\n",
              "      <td>46000</td>\n",
              "      <td>rear suspension</td>\n",
              "      <td>505</td>\n",
              "      <td>1996-08-19</td>\n",
              "      <td>8924</td>\n",
              "      <td>0</td>\n",
              "      <td>0</td>\n",
              "      <td>0</td>\n",
              "      <td>0</td>\n",
              "      <td>1</td>\n",
              "      <td>0</td>\n",
              "    </tr>\n",
              "    <tr>\n",
              "      <th>20093</th>\n",
              "      <td>20094</td>\n",
              "      <td>2021-01-24</td>\n",
              "      <td>56000</td>\n",
              "      <td>1277</td>\n",
              "      <td>43977</td>\n",
              "      <td>904</td>\n",
              "      <td>20094</td>\n",
              "      <td>2021-01-24</td>\n",
              "      <td>56000</td>\n",
              "      <td>differential</td>\n",
              "      <td>504</td>\n",
              "      <td>1997-01-14</td>\n",
              "      <td>8776</td>\n",
              "      <td>0</td>\n",
              "      <td>0</td>\n",
              "      <td>0</td>\n",
              "      <td>1</td>\n",
              "      <td>0</td>\n",
              "      <td>0</td>\n",
              "    </tr>\n",
              "    <tr>\n",
              "      <th>20094</th>\n",
              "      <td>20095</td>\n",
              "      <td>2021-01-24</td>\n",
              "      <td>33000</td>\n",
              "      <td>1278</td>\n",
              "      <td>43978</td>\n",
              "      <td>902</td>\n",
              "      <td>20095</td>\n",
              "      <td>2021-01-24</td>\n",
              "      <td>33000</td>\n",
              "      <td>axle</td>\n",
              "      <td>502</td>\n",
              "      <td>1997-03-03</td>\n",
              "      <td>8728</td>\n",
              "      <td>1</td>\n",
              "      <td>0</td>\n",
              "      <td>0</td>\n",
              "      <td>0</td>\n",
              "      <td>0</td>\n",
              "      <td>1</td>\n",
              "    </tr>\n",
              "  </tbody>\n",
              "</table>\n",
              "<p>20095 rows × 19 columns</p>\n",
              "</div>"
            ],
            "text/plain": [
              "       claim_id claim_date  ...  Vendor_Location_Panji  Repair_or_Replace_rpr\n",
              "0             1 2020-04-01  ...                      0                      1\n",
              "1             2 2020-04-01  ...                      1                      0\n",
              "2             3 2020-04-01  ...                      0                      1\n",
              "3             4 2020-04-01  ...                      0                      0\n",
              "4             5 2020-04-01  ...                      0                      1\n",
              "...         ...        ...  ...                    ...                    ...\n",
              "20090     20091 2021-01-24  ...                      0                      0\n",
              "20091     20092 2021-01-24  ...                      0                      0\n",
              "20092     20093 2021-01-24  ...                      1                      0\n",
              "20093     20094 2021-01-24  ...                      0                      0\n",
              "20094     20095 2021-01-24  ...                      0                      1\n",
              "\n",
              "[20095 rows x 19 columns]"
            ]
          },
          "metadata": {
            "tags": []
          },
          "execution_count": 123
        }
      ]
    },
    {
      "cell_type": "code",
      "metadata": {
        "colab": {
          "base_uri": "https://localhost:8080/"
        },
        "id": "ijP9vn-t38Os",
        "outputId": "8212f7be-086c-4e2e-87fb-47568da84184"
      },
      "source": [
        "mergedclaim_transaction.columns"
      ],
      "execution_count": 124,
      "outputs": [
        {
          "output_type": "execute_result",
          "data": {
            "text/plain": [
              "Index(['claim_id', 'claim_date', 'claim_amount', 'Dealer_ID', 'Cust_ID',\n",
              "       'Part_ID', 'transaction_id', 'transaction_date', 'transaction_amount',\n",
              "       'Part_Name', 'Manufacturer_ID', 'Manf_Date', 'Age',\n",
              "       'Vendor_Location_Bangalore', 'Vendor_Location_Cuttack',\n",
              "       'Vendor_Location_Mumbai', 'Vendor_Location_Naoida',\n",
              "       'Vendor_Location_Panji', 'Repair_or_Replace_rpr'],\n",
              "      dtype='object')"
            ]
          },
          "metadata": {
            "tags": []
          },
          "execution_count": 124
        }
      ]
    },
    {
      "cell_type": "code",
      "metadata": {
        "id": "AaqZzpiM0MpT"
      },
      "source": [
        "# predicting part falure \n",
        "x=mergedclaim_transaction[['Part_ID','Age','Vendor_Location_Bangalore','Vendor_Location_Cuttack','Vendor_Location_Mumbai','Vendor_Location_Naoida','Vendor_Location_Panji']]\n",
        "y=mergedclaim_transaction['Repair_or_Replace_rpr']"
      ],
      "execution_count": 127,
      "outputs": []
    },
    {
      "cell_type": "code",
      "metadata": {
        "id": "xuQj57mr5O2M"
      },
      "source": [
        "from sklearn.model_selection import cross_val_score"
      ],
      "execution_count": 129,
      "outputs": []
    },
    {
      "cell_type": "code",
      "metadata": {
        "colab": {
          "base_uri": "https://localhost:8080/"
        },
        "id": "eU6EzwEo62aJ",
        "outputId": "1c445a6d-dafd-4fa2-8361-e4c04327d473"
      },
      "source": [
        "from sklearn.tree import DecisionTreeClassifier\n",
        "classifier = DecisionTreeClassifier()\n",
        "cross_val_score(classifier,x,y,cv=10,scoring='accuracy').mean()"
      ],
      "execution_count": 130,
      "outputs": [
        {
          "output_type": "execute_result",
          "data": {
            "text/plain": [
              "0.7639220274931959"
            ]
          },
          "metadata": {
            "tags": []
          },
          "execution_count": 130
        }
      ]
    },
    {
      "cell_type": "code",
      "metadata": {
        "colab": {
          "base_uri": "https://localhost:8080/"
        },
        "id": "KnzzBcsh7Ekd",
        "outputId": "fff19ff2-9d71-4988-8088-2c820f5b69cd"
      },
      "source": [
        "from sklearn.neighbors import KNeighborsClassifier\n",
        "knn = KNeighborsClassifier(n_neighbors=4)\n",
        "cross_val_score(knn,x,y,cv=10,scoring='accuracy').mean()"
      ],
      "execution_count": 132,
      "outputs": [
        {
          "output_type": "execute_result",
          "data": {
            "text/plain": [
              "0.7359561822544818"
            ]
          },
          "metadata": {
            "tags": []
          },
          "execution_count": 132
        }
      ]
    },
    {
      "cell_type": "code",
      "metadata": {
        "id": "6p5WWXpM7yD3"
      },
      "source": [
        "#usercase- 3  To determine whether the defective part is to be replaced or repaired:\n",
        "# in the current senerio age and location and transaction amount can be taken as parameters to propose model  "
      ],
      "execution_count": null,
      "outputs": []
    },
    {
      "cell_type": "code",
      "metadata": {
        "id": "a2QOvvacB8Im"
      },
      "source": [
        "x1 = mergedclaim_transaction[['Part_ID','Age','Vendor_Location_Bangalore','Vendor_Location_Cuttack','Vendor_Location_Mumbai','Vendor_Location_Naoida','Vendor_Location_Panji','transaction_amount']]\n",
        "y1 = mergedclaim_transaction['Repair_or_Replace_rpr']                               "
      ],
      "execution_count": 135,
      "outputs": []
    },
    {
      "cell_type": "code",
      "metadata": {
        "colab": {
          "base_uri": "https://localhost:8080/"
        },
        "id": "5bLYRMcYFcs5",
        "outputId": "dbbbadbf-331c-41b6-e146-d441c4b55f8d"
      },
      "source": [
        "from sklearn.tree import DecisionTreeClassifier\n",
        "classifier = DecisionTreeClassifier()\n",
        "cross_val_score(classifier,x1,y1,cv=10,scoring='accuracy').mean()"
      ],
      "execution_count": 136,
      "outputs": [
        {
          "output_type": "execute_result",
          "data": {
            "text/plain": [
              "0.9894029850746268"
            ]
          },
          "metadata": {
            "tags": []
          },
          "execution_count": 136
        }
      ]
    },
    {
      "cell_type": "code",
      "metadata": {
        "colab": {
          "base_uri": "https://localhost:8080/"
        },
        "id": "xc-WsHKaHlns",
        "outputId": "32ba8d02-a903-4f8f-ff51-606c273b46f6"
      },
      "source": [
        "from sklearn.ensemble import RandomForestClassifier\n",
        "rfc = RandomForestClassifier(n_estimators = 100)\n",
        "cross_val_score(rfc,x1,y1,cv=10,scoring='accuracy').mean()"
      ],
      "execution_count": 138,
      "outputs": [
        {
          "output_type": "execute_result",
          "data": {
            "text/plain": [
              "0.9891542288557215"
            ]
          },
          "metadata": {
            "tags": []
          },
          "execution_count": 138
        }
      ]
    },
    {
      "cell_type": "code",
      "metadata": {
        "colab": {
          "base_uri": "https://localhost:8080/",
          "height": 419
        },
        "id": "uj-rMMbtHU2Z",
        "outputId": "7793ea66-2259-4163-b299-f61c63a74f6b"
      },
      "source": [
        "# Usecase - 5 Processing of variety of data:\n",
        "Claims_df"
      ],
      "execution_count": 139,
      "outputs": [
        {
          "output_type": "execute_result",
          "data": {
            "text/html": [
              "<div>\n",
              "<style scoped>\n",
              "    .dataframe tbody tr th:only-of-type {\n",
              "        vertical-align: middle;\n",
              "    }\n",
              "\n",
              "    .dataframe tbody tr th {\n",
              "        vertical-align: top;\n",
              "    }\n",
              "\n",
              "    .dataframe thead th {\n",
              "        text-align: right;\n",
              "    }\n",
              "</style>\n",
              "<table border=\"1\" class=\"dataframe\">\n",
              "  <thead>\n",
              "    <tr style=\"text-align: right;\">\n",
              "      <th></th>\n",
              "      <th>claim_id</th>\n",
              "      <th>claim_date</th>\n",
              "      <th>claim_amount</th>\n",
              "      <th>Dealer_ID</th>\n",
              "      <th>Cust_ID</th>\n",
              "      <th>Part_ID</th>\n",
              "      <th>Repair_or_Replace</th>\n",
              "    </tr>\n",
              "  </thead>\n",
              "  <tbody>\n",
              "    <tr>\n",
              "      <th>0</th>\n",
              "      <td>1</td>\n",
              "      <td>2020-04-01</td>\n",
              "      <td>36000</td>\n",
              "      <td>5</td>\n",
              "      <td>104</td>\n",
              "      <td>901</td>\n",
              "      <td>rpr</td>\n",
              "    </tr>\n",
              "    <tr>\n",
              "      <th>1</th>\n",
              "      <td>2</td>\n",
              "      <td>2020-04-01</td>\n",
              "      <td>42000</td>\n",
              "      <td>6</td>\n",
              "      <td>106</td>\n",
              "      <td>902</td>\n",
              "      <td>rplc</td>\n",
              "    </tr>\n",
              "    <tr>\n",
              "      <th>2</th>\n",
              "      <td>3</td>\n",
              "      <td>2020-04-01</td>\n",
              "      <td>45000</td>\n",
              "      <td>4</td>\n",
              "      <td>103</td>\n",
              "      <td>903</td>\n",
              "      <td>rpr</td>\n",
              "    </tr>\n",
              "    <tr>\n",
              "      <th>3</th>\n",
              "      <td>4</td>\n",
              "      <td>2020-04-01</td>\n",
              "      <td>56000</td>\n",
              "      <td>3</td>\n",
              "      <td>102</td>\n",
              "      <td>904</td>\n",
              "      <td>rplc</td>\n",
              "    </tr>\n",
              "    <tr>\n",
              "      <th>4</th>\n",
              "      <td>5</td>\n",
              "      <td>2020-04-01</td>\n",
              "      <td>39000</td>\n",
              "      <td>2</td>\n",
              "      <td>105</td>\n",
              "      <td>905</td>\n",
              "      <td>rpr</td>\n",
              "    </tr>\n",
              "    <tr>\n",
              "      <th>...</th>\n",
              "      <td>...</td>\n",
              "      <td>...</td>\n",
              "      <td>...</td>\n",
              "      <td>...</td>\n",
              "      <td>...</td>\n",
              "      <td>...</td>\n",
              "      <td>...</td>\n",
              "    </tr>\n",
              "    <tr>\n",
              "      <th>20090</th>\n",
              "      <td>20091</td>\n",
              "      <td>2021-01-24</td>\n",
              "      <td>53000</td>\n",
              "      <td>1274</td>\n",
              "      <td>43974</td>\n",
              "      <td>906</td>\n",
              "      <td>rplc</td>\n",
              "    </tr>\n",
              "    <tr>\n",
              "      <th>20091</th>\n",
              "      <td>20092</td>\n",
              "      <td>2021-01-24</td>\n",
              "      <td>36000</td>\n",
              "      <td>1275</td>\n",
              "      <td>43975</td>\n",
              "      <td>907</td>\n",
              "      <td>rplc</td>\n",
              "    </tr>\n",
              "    <tr>\n",
              "      <th>20092</th>\n",
              "      <td>20093</td>\n",
              "      <td>2021-01-24</td>\n",
              "      <td>46000</td>\n",
              "      <td>1276</td>\n",
              "      <td>43976</td>\n",
              "      <td>905</td>\n",
              "      <td>rplc</td>\n",
              "    </tr>\n",
              "    <tr>\n",
              "      <th>20093</th>\n",
              "      <td>20094</td>\n",
              "      <td>2021-01-24</td>\n",
              "      <td>56000</td>\n",
              "      <td>1277</td>\n",
              "      <td>43977</td>\n",
              "      <td>904</td>\n",
              "      <td>rplc</td>\n",
              "    </tr>\n",
              "    <tr>\n",
              "      <th>20094</th>\n",
              "      <td>20095</td>\n",
              "      <td>2021-01-24</td>\n",
              "      <td>33000</td>\n",
              "      <td>1278</td>\n",
              "      <td>43978</td>\n",
              "      <td>902</td>\n",
              "      <td>rpr</td>\n",
              "    </tr>\n",
              "  </tbody>\n",
              "</table>\n",
              "<p>20095 rows × 7 columns</p>\n",
              "</div>"
            ],
            "text/plain": [
              "       claim_id claim_date  claim_amount  ...  Cust_ID  Part_ID  Repair_or_Replace\n",
              "0             1 2020-04-01         36000  ...      104      901                rpr\n",
              "1             2 2020-04-01         42000  ...      106      902               rplc\n",
              "2             3 2020-04-01         45000  ...      103      903                rpr\n",
              "3             4 2020-04-01         56000  ...      102      904               rplc\n",
              "4             5 2020-04-01         39000  ...      105      905                rpr\n",
              "...         ...        ...           ...  ...      ...      ...                ...\n",
              "20090     20091 2021-01-24         53000  ...    43974      906               rplc\n",
              "20091     20092 2021-01-24         36000  ...    43975      907               rplc\n",
              "20092     20093 2021-01-24         46000  ...    43976      905               rplc\n",
              "20093     20094 2021-01-24         56000  ...    43977      904               rplc\n",
              "20094     20095 2021-01-24         33000  ...    43978      902                rpr\n",
              "\n",
              "[20095 rows x 7 columns]"
            ]
          },
          "metadata": {
            "tags": []
          },
          "execution_count": 139
        }
      ]
    },
    {
      "cell_type": "code",
      "metadata": {
        "colab": {
          "base_uri": "https://localhost:8080/",
          "height": 204
        },
        "id": "V258FplrhNoZ",
        "outputId": "b095c89a-0d7f-4d97-f7df-a5234ebafcdb"
      },
      "source": [
        "all = pd.merge(Claims_df,dealer_df, on =\"Dealer_ID\",how ='left' )\n",
        "all.head()"
      ],
      "execution_count": 172,
      "outputs": [
        {
          "output_type": "execute_result",
          "data": {
            "text/html": [
              "<div>\n",
              "<style scoped>\n",
              "    .dataframe tbody tr th:only-of-type {\n",
              "        vertical-align: middle;\n",
              "    }\n",
              "\n",
              "    .dataframe tbody tr th {\n",
              "        vertical-align: top;\n",
              "    }\n",
              "\n",
              "    .dataframe thead th {\n",
              "        text-align: right;\n",
              "    }\n",
              "</style>\n",
              "<table border=\"1\" class=\"dataframe\">\n",
              "  <thead>\n",
              "    <tr style=\"text-align: right;\">\n",
              "      <th></th>\n",
              "      <th>claim_id</th>\n",
              "      <th>claim_date</th>\n",
              "      <th>claim_amount</th>\n",
              "      <th>Dealer_ID</th>\n",
              "      <th>Cust_ID</th>\n",
              "      <th>Part_ID</th>\n",
              "      <th>Repair_or_Replace</th>\n",
              "      <th>Dealer_Name</th>\n",
              "      <th>Dealer_Country</th>\n",
              "      <th>State</th>\n",
              "      <th>City</th>\n",
              "      <th>ZIpCode</th>\n",
              "    </tr>\n",
              "  </thead>\n",
              "  <tbody>\n",
              "    <tr>\n",
              "      <th>0</th>\n",
              "      <td>1</td>\n",
              "      <td>2020-04-01</td>\n",
              "      <td>36000</td>\n",
              "      <td>5</td>\n",
              "      <td>104</td>\n",
              "      <td>901</td>\n",
              "      <td>rpr</td>\n",
              "      <td>Lynn Knapp</td>\n",
              "      <td>india</td>\n",
              "      <td>Orrisa</td>\n",
              "      <td>Cuttack</td>\n",
              "      <td>400005</td>\n",
              "    </tr>\n",
              "    <tr>\n",
              "      <th>1</th>\n",
              "      <td>2</td>\n",
              "      <td>2020-04-01</td>\n",
              "      <td>42000</td>\n",
              "      <td>6</td>\n",
              "      <td>106</td>\n",
              "      <td>902</td>\n",
              "      <td>rplc</td>\n",
              "      <td>Harold Hamff</td>\n",
              "      <td>india</td>\n",
              "      <td>Maharashtra</td>\n",
              "      <td>Mumbai</td>\n",
              "      <td>400006</td>\n",
              "    </tr>\n",
              "    <tr>\n",
              "      <th>2</th>\n",
              "      <td>3</td>\n",
              "      <td>2020-04-01</td>\n",
              "      <td>45000</td>\n",
              "      <td>4</td>\n",
              "      <td>103</td>\n",
              "      <td>903</td>\n",
              "      <td>rpr</td>\n",
              "      <td>Rachel Oszust</td>\n",
              "      <td>india</td>\n",
              "      <td>Gujrat</td>\n",
              "      <td>Ahemdabad</td>\n",
              "      <td>400004</td>\n",
              "    </tr>\n",
              "    <tr>\n",
              "      <th>3</th>\n",
              "      <td>4</td>\n",
              "      <td>2020-04-01</td>\n",
              "      <td>56000</td>\n",
              "      <td>3</td>\n",
              "      <td>102</td>\n",
              "      <td>904</td>\n",
              "      <td>rplc</td>\n",
              "      <td>Donald Repinski</td>\n",
              "      <td>india</td>\n",
              "      <td>Karnataka</td>\n",
              "      <td>Bangalore</td>\n",
              "      <td>400003</td>\n",
              "    </tr>\n",
              "    <tr>\n",
              "      <th>4</th>\n",
              "      <td>5</td>\n",
              "      <td>2020-04-01</td>\n",
              "      <td>39000</td>\n",
              "      <td>2</td>\n",
              "      <td>105</td>\n",
              "      <td>905</td>\n",
              "      <td>rpr</td>\n",
              "      <td>Owen Mclaughlin</td>\n",
              "      <td>india</td>\n",
              "      <td>Delhi</td>\n",
              "      <td>Naoida</td>\n",
              "      <td>400002</td>\n",
              "    </tr>\n",
              "  </tbody>\n",
              "</table>\n",
              "</div>"
            ],
            "text/plain": [
              "   claim_id claim_date  claim_amount  ...        State       City  ZIpCode\n",
              "0         1 2020-04-01         36000  ...       Orrisa    Cuttack   400005\n",
              "1         2 2020-04-01         42000  ...  Maharashtra     Mumbai   400006\n",
              "2         3 2020-04-01         45000  ...       Gujrat  Ahemdabad   400004\n",
              "3         4 2020-04-01         56000  ...    Karnataka  Bangalore   400003\n",
              "4         5 2020-04-01         39000  ...        Delhi     Naoida   400002\n",
              "\n",
              "[5 rows x 12 columns]"
            ]
          },
          "metadata": {
            "tags": []
          },
          "execution_count": 172
        }
      ]
    },
    {
      "cell_type": "code",
      "metadata": {
        "colab": {
          "base_uri": "https://localhost:8080/",
          "height": 386
        },
        "id": "7oo-bJ0OkojU",
        "outputId": "b8523061-7bf4-418d-920e-12747fec4f94"
      },
      "source": [
        "sns.displot(all['State'],kde =True)"
      ],
      "execution_count": 173,
      "outputs": [
        {
          "output_type": "execute_result",
          "data": {
            "text/plain": [
              "<seaborn.axisgrid.FacetGrid at 0x7ff104d76150>"
            ]
          },
          "metadata": {
            "tags": []
          },
          "execution_count": 173
        },
        {
          "output_type": "display_data",
          "data": {
            "image/png": "[encoded data removed]",
            "text/plain": [
              "<Figure size 360x360 with 1 Axes>"
            ]
          },
          "metadata": {
            "tags": [],
            "needs_background": "light"
          }
        }
      ]
    },
    {
      "cell_type": "code",
      "metadata": {
        "id": "l_URtFA9TZrE"
      },
      "source": [
        "all = pd.get_dummies(all, columns=['Repair_or_Replace','State'],drop_first=True)"
      ],
      "execution_count": 174,
      "outputs": []
    },
    {
      "cell_type": "code",
      "metadata": {
        "colab": {
          "base_uri": "https://localhost:8080/",
          "height": 441
        },
        "id": "WsJRpKfFVN1s",
        "outputId": "7c06fedf-59a4-4c85-cede-e88fffdf3d1b"
      },
      "source": [
        "all.corr()\n"
      ],
      "execution_count": 175,
      "outputs": [
        {
          "output_type": "execute_result",
          "data": {
            "text/html": [
              "<div>\n",
              "<style scoped>\n",
              "    .dataframe tbody tr th:only-of-type {\n",
              "        vertical-align: middle;\n",
              "    }\n",
              "\n",
              "    .dataframe tbody tr th {\n",
              "        vertical-align: top;\n",
              "    }\n",
              "\n",
              "    .dataframe thead th {\n",
              "        text-align: right;\n",
              "    }\n",
              "</style>\n",
              "<table border=\"1\" class=\"dataframe\">\n",
              "  <thead>\n",
              "    <tr style=\"text-align: right;\">\n",
              "      <th></th>\n",
              "      <th>claim_id</th>\n",
              "      <th>claim_amount</th>\n",
              "      <th>Dealer_ID</th>\n",
              "      <th>Cust_ID</th>\n",
              "      <th>Part_ID</th>\n",
              "      <th>ZIpCode</th>\n",
              "      <th>Repair_or_Replace_rpr</th>\n",
              "      <th>State_Goa</th>\n",
              "      <th>State_Gujrat</th>\n",
              "      <th>State_Karnataka</th>\n",
              "      <th>State_Maharashtra</th>\n",
              "      <th>State_Orrisa</th>\n",
              "    </tr>\n",
              "  </thead>\n",
              "  <tbody>\n",
              "    <tr>\n",
              "      <th>claim_id</th>\n",
              "      <td>1.000000</td>\n",
              "      <td>0.000214</td>\n",
              "      <td>0.002988</td>\n",
              "      <td>-0.000791</td>\n",
              "      <td>0.000189</td>\n",
              "      <td>0.000158</td>\n",
              "      <td>-0.000169</td>\n",
              "      <td>0.000002</td>\n",
              "      <td>0.000421</td>\n",
              "      <td>-0.000329</td>\n",
              "      <td>0.000145</td>\n",
              "      <td>-0.000085</td>\n",
              "    </tr>\n",
              "    <tr>\n",
              "      <th>claim_amount</th>\n",
              "      <td>0.000214</td>\n",
              "      <td>1.000000</td>\n",
              "      <td>-0.000154</td>\n",
              "      <td>-0.001481</td>\n",
              "      <td>-0.285543</td>\n",
              "      <td>-0.001569</td>\n",
              "      <td>-0.264751</td>\n",
              "      <td>0.000157</td>\n",
              "      <td>0.000091</td>\n",
              "      <td>0.001947</td>\n",
              "      <td>0.000472</td>\n",
              "      <td>-0.003632</td>\n",
              "    </tr>\n",
              "    <tr>\n",
              "      <th>Dealer_ID</th>\n",
              "      <td>0.002988</td>\n",
              "      <td>-0.000154</td>\n",
              "      <td>1.000000</td>\n",
              "      <td>0.007710</td>\n",
              "      <td>-0.002561</td>\n",
              "      <td>0.066264</td>\n",
              "      <td>0.000630</td>\n",
              "      <td>-0.014101</td>\n",
              "      <td>0.114150</td>\n",
              "      <td>-0.092952</td>\n",
              "      <td>0.099579</td>\n",
              "      <td>-0.066521</td>\n",
              "    </tr>\n",
              "    <tr>\n",
              "      <th>Cust_ID</th>\n",
              "      <td>-0.000791</td>\n",
              "      <td>-0.001481</td>\n",
              "      <td>0.007710</td>\n",
              "      <td>1.000000</td>\n",
              "      <td>0.002312</td>\n",
              "      <td>-0.004365</td>\n",
              "      <td>-0.001301</td>\n",
              "      <td>0.001977</td>\n",
              "      <td>-0.006923</td>\n",
              "      <td>0.004214</td>\n",
              "      <td>-0.002884</td>\n",
              "      <td>0.000433</td>\n",
              "    </tr>\n",
              "    <tr>\n",
              "      <th>Part_ID</th>\n",
              "      <td>0.000189</td>\n",
              "      <td>-0.285543</td>\n",
              "      <td>-0.002561</td>\n",
              "      <td>0.002312</td>\n",
              "      <td>1.000000</td>\n",
              "      <td>-0.002952</td>\n",
              "      <td>-0.364181</td>\n",
              "      <td>0.003273</td>\n",
              "      <td>0.001491</td>\n",
              "      <td>-0.003587</td>\n",
              "      <td>-0.000393</td>\n",
              "      <td>-0.002541</td>\n",
              "    </tr>\n",
              "    <tr>\n",
              "      <th>ZIpCode</th>\n",
              "      <td>0.000158</td>\n",
              "      <td>-0.001569</td>\n",
              "      <td>0.066264</td>\n",
              "      <td>-0.004365</td>\n",
              "      <td>-0.002952</td>\n",
              "      <td>1.000000</td>\n",
              "      <td>0.000325</td>\n",
              "      <td>-0.663095</td>\n",
              "      <td>0.147370</td>\n",
              "      <td>-0.098645</td>\n",
              "      <td>0.637278</td>\n",
              "      <td>0.434479</td>\n",
              "    </tr>\n",
              "    <tr>\n",
              "      <th>Repair_or_Replace_rpr</th>\n",
              "      <td>-0.000169</td>\n",
              "      <td>-0.264751</td>\n",
              "      <td>0.000630</td>\n",
              "      <td>-0.001301</td>\n",
              "      <td>-0.364181</td>\n",
              "      <td>0.000325</td>\n",
              "      <td>1.000000</td>\n",
              "      <td>0.001422</td>\n",
              "      <td>-0.000059</td>\n",
              "      <td>0.003855</td>\n",
              "      <td>-0.003050</td>\n",
              "      <td>0.003527</td>\n",
              "    </tr>\n",
              "    <tr>\n",
              "      <th>State_Goa</th>\n",
              "      <td>0.000002</td>\n",
              "      <td>0.000157</td>\n",
              "      <td>-0.014101</td>\n",
              "      <td>0.001977</td>\n",
              "      <td>0.003273</td>\n",
              "      <td>-0.663095</td>\n",
              "      <td>0.001422</td>\n",
              "      <td>1.000000</td>\n",
              "      <td>-0.190569</td>\n",
              "      <td>-0.224982</td>\n",
              "      <td>-0.199344</td>\n",
              "      <td>-0.218871</td>\n",
              "    </tr>\n",
              "    <tr>\n",
              "      <th>State_Gujrat</th>\n",
              "      <td>0.000421</td>\n",
              "      <td>0.000091</td>\n",
              "      <td>0.114150</td>\n",
              "      <td>-0.006923</td>\n",
              "      <td>0.001491</td>\n",
              "      <td>0.147370</td>\n",
              "      <td>-0.000059</td>\n",
              "      <td>-0.190569</td>\n",
              "      <td>1.000000</td>\n",
              "      <td>-0.185052</td>\n",
              "      <td>-0.163965</td>\n",
              "      <td>-0.180026</td>\n",
              "    </tr>\n",
              "    <tr>\n",
              "      <th>State_Karnataka</th>\n",
              "      <td>-0.000329</td>\n",
              "      <td>0.001947</td>\n",
              "      <td>-0.092952</td>\n",
              "      <td>0.004214</td>\n",
              "      <td>-0.003587</td>\n",
              "      <td>-0.098645</td>\n",
              "      <td>0.003855</td>\n",
              "      <td>-0.224982</td>\n",
              "      <td>-0.185052</td>\n",
              "      <td>1.000000</td>\n",
              "      <td>-0.193574</td>\n",
              "      <td>-0.212535</td>\n",
              "    </tr>\n",
              "    <tr>\n",
              "      <th>State_Maharashtra</th>\n",
              "      <td>0.000145</td>\n",
              "      <td>0.000472</td>\n",
              "      <td>0.099579</td>\n",
              "      <td>-0.002884</td>\n",
              "      <td>-0.000393</td>\n",
              "      <td>0.637278</td>\n",
              "      <td>-0.003050</td>\n",
              "      <td>-0.199344</td>\n",
              "      <td>-0.163965</td>\n",
              "      <td>-0.193574</td>\n",
              "      <td>1.000000</td>\n",
              "      <td>-0.188316</td>\n",
              "    </tr>\n",
              "    <tr>\n",
              "      <th>State_Orrisa</th>\n",
              "      <td>-0.000085</td>\n",
              "      <td>-0.003632</td>\n",
              "      <td>-0.066521</td>\n",
              "      <td>0.000433</td>\n",
              "      <td>-0.002541</td>\n",
              "      <td>0.434479</td>\n",
              "      <td>0.003527</td>\n",
              "      <td>-0.218871</td>\n",
              "      <td>-0.180026</td>\n",
              "      <td>-0.212535</td>\n",
              "      <td>-0.188316</td>\n",
              "      <td>1.000000</td>\n",
              "    </tr>\n",
              "  </tbody>\n",
              "</table>\n",
              "</div>"
            ],
            "text/plain": [
              "                       claim_id  claim_amount  ...  State_Maharashtra  State_Orrisa\n",
              "claim_id               1.000000      0.000214  ...           0.000145     -0.000085\n",
              "claim_amount           0.000214      1.000000  ...           0.000472     -0.003632\n",
              "Dealer_ID              0.002988     -0.000154  ...           0.099579     -0.066521\n",
              "Cust_ID               -0.000791     -0.001481  ...          -0.002884      0.000433\n",
              "Part_ID                0.000189     -0.285543  ...          -0.000393     -0.002541\n",
              "ZIpCode                0.000158     -0.001569  ...           0.637278      0.434479\n",
              "Repair_or_Replace_rpr -0.000169     -0.264751  ...          -0.003050      0.003527\n",
              "State_Goa              0.000002      0.000157  ...          -0.199344     -0.218871\n",
              "State_Gujrat           0.000421      0.000091  ...          -0.163965     -0.180026\n",
              "State_Karnataka       -0.000329      0.001947  ...          -0.193574     -0.212535\n",
              "State_Maharashtra      0.000145      0.000472  ...           1.000000     -0.188316\n",
              "State_Orrisa          -0.000085     -0.003632  ...          -0.188316      1.000000\n",
              "\n",
              "[12 rows x 12 columns]"
            ]
          },
          "metadata": {
            "tags": []
          },
          "execution_count": 175
        }
      ]
    },
    {
      "cell_type": "code",
      "metadata": {
        "id": "Ui51hBrlSGoa"
      },
      "source": [
        "x2 = all[['Part_ID','State_Goa','State_Gujrat','State_Karnataka','State_Maharashtra','State_Orrisa']]\n",
        "y2 = all['Repair_or_Replace_rpr'] "
      ],
      "execution_count": 182,
      "outputs": []
    },
    {
      "cell_type": "code",
      "metadata": {
        "colab": {
          "base_uri": "https://localhost:8080/"
        },
        "id": "ARhd_fJpmWgg",
        "outputId": "f314d90c-41c7-46f9-e1a7-466536cd243a"
      },
      "source": [
        "from sklearn.tree import DecisionTreeClassifier\n",
        "classifier = DecisionTreeClassifier()\n",
        "cross_val_score(classifier,x2,y2,cv=10,scoring='accuracy').mean()"
      ],
      "execution_count": 183,
      "outputs": [
        {
          "output_type": "execute_result",
          "data": {
            "text/plain": [
              "0.7666085946573752"
            ]
          },
          "metadata": {
            "tags": []
          },
          "execution_count": 183
        }
      ]
    }
  ]
}